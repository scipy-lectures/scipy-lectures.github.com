{
  "cells": [
    {
      "cell_type": "code",
      "execution_count": null,
      "metadata": {
        "collapsed": false
      },
      "outputs": [],
      "source": [
        "%matplotlib inline"
      ]
    },
    {
      "cell_type": "markdown",
      "metadata": {},
      "source": [
        "\nPlotting simple quantities of a pandas dataframe\n=================================================\n\nThis example loads from a CSV file data with mixed numerical and\ncategorical entries, and plots a few quantities, separately for females\nand males, thanks to the pandas integrated plotting tool (that uses\nmatplotlib behind the scene).\n\nSee http://pandas.pydata.org/pandas-docs/stable/visualization.html\n\n"
      ]
    },
    {
      "cell_type": "code",
      "execution_count": null,
      "metadata": {
        "collapsed": false
      },
      "outputs": [],
      "source": [
        "import pandas\n\ndata = pandas.read_csv('brain_size.csv', sep=';', na_values='.')\n\n# Box plots of different columns for each gender\ngroupby_gender = data.groupby('Gender')\ngroupby_gender.boxplot(column=['FSIQ', 'VIQ', 'PIQ'])\n\nfrom pandas.tools import plotting\n\n# Scatter matrices for different columns\nplotting.scatter_matrix(data[['Weight', 'Height', 'MRI_Count']])\nplotting.scatter_matrix(data[['PIQ', 'VIQ', 'FSIQ']])\n\nimport matplotlib.pyplot as plt\nplt.show()"
      ]
    }
  ],
  "metadata": {
    "kernelspec": {
      "display_name": "Python 3",
      "language": "python",
      "name": "python3"
    },
    "language_info": {
      "codemirror_mode": {
        "name": "ipython",
        "version": 3
      },
      "file_extension": ".py",
      "mimetype": "text/x-python",
      "name": "python",
      "nbconvert_exporter": "python",
      "pygments_lexer": "ipython3",
      "version": "3.6.13"
    }
  },
  "nbformat": 4,
  "nbformat_minor": 0
}