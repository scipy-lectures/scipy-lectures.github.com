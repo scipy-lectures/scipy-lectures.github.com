{
  "cells": [
    {
      "cell_type": "code",
      "execution_count": null,
      "metadata": {
        "collapsed": false
      },
      "outputs": [],
      "source": [
        "%matplotlib inline"
      ]
    },
    {
      "cell_type": "markdown",
      "metadata": {},
      "source": [
        "\nCleaning segmentation with mathematical morphology\n===================================================\n\nAn example showing how to clean segmentation with mathematical\nmorphology: removing small regions and holes.\n\n\n"
      ]
    },
    {
      "cell_type": "code",
      "execution_count": null,
      "metadata": {
        "collapsed": false
      },
      "outputs": [],
      "source": [
        "import numpy as np\nfrom scipy import ndimage\nimport matplotlib.pyplot as plt\n\nnp.random.seed(1)\nn = 10\nl = 256\nim = np.zeros((l, l))\npoints = l*np.random.random((2, n**2))\nim[(points[0]).astype(np.int), (points[1]).astype(np.int)] = 1\nim = ndimage.gaussian_filter(im, sigma=l/(4.*n))\n\nmask = (im > im.mean()).astype(np.float)\n\n\nimg = mask + 0.3*np.random.randn(*mask.shape)\n\nbinary_img = img > 0.5\n\n# Remove small white regions\nopen_img = ndimage.binary_opening(binary_img)\n# Remove small black hole\nclose_img = ndimage.binary_closing(open_img)\n\nplt.figure(figsize=(12, 3))\n\nl = 128\n\nplt.subplot(141)\nplt.imshow(binary_img[:l, :l], cmap=plt.cm.gray)\nplt.axis('off')\nplt.subplot(142)\nplt.imshow(open_img[:l, :l], cmap=plt.cm.gray)\nplt.axis('off')\nplt.subplot(143)\nplt.imshow(close_img[:l, :l], cmap=plt.cm.gray)\nplt.axis('off')\nplt.subplot(144)\nplt.imshow(mask[:l, :l], cmap=plt.cm.gray)\nplt.contour(close_img[:l, :l], [0.5], linewidths=2, colors='r')\nplt.axis('off')\n\nplt.subplots_adjust(wspace=0.02, hspace=0.3, top=1, bottom=0.1, left=0, right=1)\n\nplt.show()"
      ]
    }
  ],
  "metadata": {
    "kernelspec": {
      "display_name": "Python 3",
      "language": "python",
      "name": "python3"
    },
    "language_info": {
      "codemirror_mode": {
        "name": "ipython",
        "version": 3
      },
      "file_extension": ".py",
      "mimetype": "text/x-python",
      "name": "python",
      "nbconvert_exporter": "python",
      "pygments_lexer": "ipython3",
      "version": "3.6.13"
    }
  },
  "nbformat": 4,
  "nbformat_minor": 0
}