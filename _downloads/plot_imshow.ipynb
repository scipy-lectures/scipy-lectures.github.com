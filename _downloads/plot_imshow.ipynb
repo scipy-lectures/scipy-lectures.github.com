{
  "cells": [
    {
      "cell_type": "code",
      "execution_count": null,
      "metadata": {
        "collapsed": false
      },
      "outputs": [],
      "source": [
        "%matplotlib inline"
      ]
    },
    {
      "cell_type": "markdown",
      "metadata": {},
      "source": [
        "\nImshow elaborate\n=================\n\nAn example demoing imshow and styling the figure.\n\n"
      ]
    },
    {
      "cell_type": "code",
      "execution_count": null,
      "metadata": {
        "collapsed": false
      },
      "outputs": [],
      "source": [
        "import numpy as np\nimport matplotlib.pyplot as plt\n\ndef f(x, y):\n    return (1 - x / 2 + x ** 5 + y ** 3 ) * np.exp(-x ** 2 - y ** 2)\n\nn = 10\nx = np.linspace(-3, 3, 3.5 * n)\ny = np.linspace(-3, 3, 3.0 * n)\nX, Y = np.meshgrid(x, y)\nZ = f(X, Y)\n\nplt.axes([0.025, 0.025, 0.95, 0.95])\nplt.imshow(Z, interpolation='nearest', cmap='bone', origin='lower')\nplt.colorbar(shrink=.92)\n\nplt.xticks([])\nplt.yticks([])\nplt.show()"
      ]
    }
  ],
  "metadata": {
    "kernelspec": {
      "display_name": "Python 3",
      "language": "python",
      "name": "python3"
    },
    "language_info": {
      "codemirror_mode": {
        "name": "ipython",
        "version": 3
      },
      "file_extension": ".py",
      "mimetype": "text/x-python",
      "name": "python",
      "nbconvert_exporter": "python",
      "pygments_lexer": "ipython3",
      "version": "3.6.13"
    }
  },
  "nbformat": 4,
  "nbformat_minor": 0
}