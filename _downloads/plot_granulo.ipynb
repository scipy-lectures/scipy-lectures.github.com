{
  "cells": [
    {
      "cell_type": "code",
      "execution_count": null,
      "metadata": {
        "collapsed": false
      },
      "outputs": [],
      "source": [
        "%matplotlib inline"
      ]
    },
    {
      "cell_type": "markdown",
      "metadata": {},
      "source": [
        "\nGranulometry\n============\n\nThis example performs a simple granulometry analysis.\n\n"
      ]
    },
    {
      "cell_type": "code",
      "execution_count": null,
      "metadata": {
        "collapsed": false
      },
      "outputs": [],
      "source": [
        "import numpy as np\nfrom scipy import ndimage\nimport matplotlib.pyplot as plt\n\ndef disk_structure(n):\n    struct = np.zeros((2 * n + 1, 2 * n + 1))\n    x, y = np.indices((2 * n + 1, 2 * n + 1))\n    mask = (x - n)**2 + (y - n)**2 <= n**2\n    struct[mask] = 1\n    return struct.astype(np.bool)\n\n\ndef granulometry(data, sizes=None):\n    s = max(data.shape)\n    if sizes is None:\n        sizes = range(1, s/2, 2)\n    granulo = [ndimage.binary_opening(data, \\\n            structure=disk_structure(n)).sum() for n in sizes]\n    return granulo\n\n\nnp.random.seed(1)\nn = 10\nl = 256\nim = np.zeros((l, l))\npoints = l*np.random.random((2, n**2))\nim[(points[0]).astype(np.int), (points[1]).astype(np.int)] = 1\nim = ndimage.gaussian_filter(im, sigma=l/(4.*n))\n\nmask = im > im.mean()\n\ngranulo = granulometry(mask, sizes=np.arange(2, 19, 4))\n\nplt.figure(figsize=(6, 2.2))\n\nplt.subplot(121)\nplt.imshow(mask, cmap=plt.cm.gray)\nopened = ndimage.binary_opening(mask, structure=disk_structure(10))\nopened_more = ndimage.binary_opening(mask, structure=disk_structure(14))\nplt.contour(opened, [0.5], colors='b', linewidths=2)\nplt.contour(opened_more, [0.5], colors='r', linewidths=2)\nplt.axis('off')\nplt.subplot(122)\nplt.plot(np.arange(2, 19, 4), granulo, 'ok', ms=8)\n\n\nplt.subplots_adjust(wspace=0.02, hspace=0.15, top=0.95, bottom=0.15, left=0, right=0.95)\nplt.show()"
      ]
    }
  ],
  "metadata": {
    "kernelspec": {
      "display_name": "Python 3",
      "language": "python",
      "name": "python3"
    },
    "language_info": {
      "codemirror_mode": {
        "name": "ipython",
        "version": 3
      },
      "file_extension": ".py",
      "mimetype": "text/x-python",
      "name": "python",
      "nbconvert_exporter": "python",
      "pygments_lexer": "ipython3",
      "version": "3.6.13"
    }
  },
  "nbformat": 4,
  "nbformat_minor": 0
}