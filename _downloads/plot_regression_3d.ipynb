{
  "cells": [
    {
      "cell_type": "code",
      "execution_count": null,
      "metadata": {
        "collapsed": false
      },
      "outputs": [],
      "source": [
        "%matplotlib inline"
      ]
    },
    {
      "cell_type": "markdown",
      "metadata": {},
      "source": [
        "\nMultiple Regression\n====================\n\nCalculate using 'statsmodels' just the best fit, or all the corresponding\nstatistical parameters.\n\nAlso shows how to make 3d plots.\n\n"
      ]
    },
    {
      "cell_type": "code",
      "execution_count": null,
      "metadata": {
        "collapsed": false
      },
      "outputs": [],
      "source": [
        "# Original author: Thomas Haslwanter\n\nimport numpy as np\nimport matplotlib.pyplot as plt\nimport pandas\n\n# For 3d plots. This import is necessary to have 3D plotting below\nfrom mpl_toolkits.mplot3d import Axes3D\n\n# For statistics. Requires statsmodels 5.0 or more\nfrom statsmodels.formula.api import ols\n# Analysis of Variance (ANOVA) on linear models\nfrom statsmodels.stats.anova import anova_lm"
      ]
    },
    {
      "cell_type": "markdown",
      "metadata": {},
      "source": [
        "Generate and show the data\n\n"
      ]
    },
    {
      "cell_type": "code",
      "execution_count": null,
      "metadata": {
        "collapsed": false
      },
      "outputs": [],
      "source": [
        "x = np.linspace(-5, 5, 21)\n# We generate a 2D grid\nX, Y = np.meshgrid(x, x)\n\n# To get reproducable values, provide a seed value\nnp.random.seed(1)\n\n# Z is the elevation of this 2D grid\nZ = -5 + 3*X - 0.5*Y + 8 * np.random.normal(size=X.shape)\n\n# Plot the data\nfig = plt.figure()\nax = fig.gca(projection='3d')\nsurf = ax.plot_surface(X, Y, Z, cmap=plt.cm.coolwarm,\n                       rstride=1, cstride=1)\nax.view_init(20, -120)\nax.set_xlabel('X')\nax.set_ylabel('Y')\nax.set_zlabel('Z')"
      ]
    },
    {
      "cell_type": "markdown",
      "metadata": {},
      "source": [
        "Multilinear regression model, calculating fit, P-values, confidence\nintervals etc.\n\n"
      ]
    },
    {
      "cell_type": "code",
      "execution_count": null,
      "metadata": {
        "collapsed": false
      },
      "outputs": [],
      "source": [
        "# Convert the data into a Pandas DataFrame to use the formulas framework\n# in statsmodels\n\n# First we need to flatten the data: it's 2D layout is not relevent.\nX = X.flatten()\nY = Y.flatten()\nZ = Z.flatten()\n\ndata = pandas.DataFrame({'x': X, 'y': Y, 'z': Z})\n\n# Fit the model\nmodel = ols(\"z ~ x + y\", data).fit()\n\n# Print the summary\nprint(model.summary())\n\nprint(\"\\nRetrieving manually the parameter estimates:\")\nprint(model._results.params)\n# should be array([-4.99754526,  3.00250049, -0.50514907])\n\n# Peform analysis of variance on fitted linear model\nanova_results = anova_lm(model)\n\nprint('\\nANOVA results')\nprint(anova_results)\n\nplt.show()"
      ]
    }
  ],
  "metadata": {
    "kernelspec": {
      "display_name": "Python 3",
      "language": "python",
      "name": "python3"
    },
    "language_info": {
      "codemirror_mode": {
        "name": "ipython",
        "version": 3
      },
      "file_extension": ".py",
      "mimetype": "text/x-python",
      "name": "python",
      "nbconvert_exporter": "python",
      "pygments_lexer": "ipython3",
      "version": "3.6.13"
    }
  },
  "nbformat": 4,
  "nbformat_minor": 0
}