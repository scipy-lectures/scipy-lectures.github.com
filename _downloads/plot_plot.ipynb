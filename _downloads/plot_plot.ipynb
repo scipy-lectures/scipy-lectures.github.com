{
  "cells": [
    {
      "cell_type": "code",
      "execution_count": null,
      "metadata": {
        "collapsed": false
      },
      "outputs": [],
      "source": [
        "%matplotlib inline"
      ]
    },
    {
      "cell_type": "markdown",
      "metadata": {},
      "source": [
        "\nPlot and filled plots\n=====================\n\nSimple example of plots and filling between them with matplotlib.\n\n"
      ]
    },
    {
      "cell_type": "code",
      "execution_count": null,
      "metadata": {
        "collapsed": false
      },
      "outputs": [],
      "source": [
        "import numpy as np\nimport matplotlib.pyplot as plt\n\nn = 256\nX = np.linspace(-np.pi, np.pi, n)\nY = np.sin(2 * X)\n\nplt.axes([0.025, 0.025, 0.95, 0.95])\n\nplt.plot(X, Y + 1, color='blue', alpha=1.00)\nplt.fill_between(X, 1, Y + 1, color='blue', alpha=.25)\n\nplt.plot(X, Y - 1, color='blue', alpha=1.00)\nplt.fill_between(X, -1, Y - 1, (Y - 1) > -1, color='blue', alpha=.25)\nplt.fill_between(X, -1, Y - 1, (Y - 1) < -1, color='red',  alpha=.25)\n\nplt.xlim(-np.pi, np.pi)\nplt.xticks([])\nplt.ylim(-2.5, 2.5)\nplt.yticks([])\n\nplt.show()"
      ]
    }
  ],
  "metadata": {
    "kernelspec": {
      "display_name": "Python 3",
      "language": "python",
      "name": "python3"
    },
    "language_info": {
      "codemirror_mode": {
        "name": "ipython",
        "version": 3
      },
      "file_extension": ".py",
      "mimetype": "text/x-python",
      "name": "python",
      "nbconvert_exporter": "python",
      "pygments_lexer": "ipython3",
      "version": "3.6.13"
    }
  },
  "nbformat": 4,
  "nbformat_minor": 0
}