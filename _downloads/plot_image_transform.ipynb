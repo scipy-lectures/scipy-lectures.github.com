{
  "cells": [
    {
      "cell_type": "code",
      "execution_count": null,
      "metadata": {
        "collapsed": false
      },
      "outputs": [],
      "source": [
        "%matplotlib inline"
      ]
    },
    {
      "cell_type": "markdown",
      "metadata": {},
      "source": [
        "\n# Plot geometrical transformations on images\n\n\nDemo geometrical transformations of images.\n\n"
      ]
    },
    {
      "cell_type": "code",
      "execution_count": null,
      "metadata": {
        "collapsed": false
      },
      "outputs": [],
      "source": [
        "# Load some data\nfrom scipy import misc\nface = misc.face(gray=True)\n\n# Apply a variety of transformations\nfrom scipy import ndimage\nfrom matplotlib import pyplot as plt\nshifted_face = ndimage.shift(face, (50, 50))\nshifted_face2 = ndimage.shift(face, (50, 50), mode='nearest')\nrotated_face = ndimage.rotate(face, 30)\ncropped_face = face[50:-50, 50:-50]\nzoomed_face = ndimage.zoom(face, 2)\nzoomed_face.shape\n\nplt.figure(figsize=(15, 3))\nplt.subplot(151)\nplt.imshow(shifted_face, cmap=plt.cm.gray)\nplt.axis('off')\n\nplt.subplot(152)\nplt.imshow(shifted_face2, cmap=plt.cm.gray)\nplt.axis('off')\n\nplt.subplot(153)\nplt.imshow(rotated_face, cmap=plt.cm.gray)\nplt.axis('off')\n\nplt.subplot(154)\nplt.imshow(cropped_face, cmap=plt.cm.gray)\nplt.axis('off')\n\nplt.subplot(155)\nplt.imshow(zoomed_face, cmap=plt.cm.gray)\nplt.axis('off')\n\nplt.subplots_adjust(wspace=.05, left=.01, bottom=.01, right=.99, top=.99)\n\nplt.show()"
      ]
    }
  ],
  "metadata": {
    "kernelspec": {
      "display_name": "Python 3",
      "language": "python",
      "name": "python3"
    },
    "language_info": {
      "codemirror_mode": {
        "name": "ipython",
        "version": 3
      },
      "file_extension": ".py",
      "mimetype": "text/x-python",
      "name": "python",
      "nbconvert_exporter": "python",
      "pygments_lexer": "ipython3",
      "version": "3.6.13"
    }
  },
  "nbformat": 4,
  "nbformat_minor": 0
}