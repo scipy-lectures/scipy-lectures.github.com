{
  "cells": [
    {
      "cell_type": "code",
      "execution_count": null,
      "metadata": {
        "collapsed": false
      },
      "outputs": [],
      "source": [
        "%matplotlib inline"
      ]
    },
    {
      "cell_type": "markdown",
      "metadata": {},
      "source": [
        "\nFinding edges with Sobel filters\n==================================\n\nThe Sobel filter is one of the simplest way of finding edges.\n\n"
      ]
    },
    {
      "cell_type": "code",
      "execution_count": null,
      "metadata": {
        "collapsed": false
      },
      "outputs": [],
      "source": [
        "import numpy as np\nfrom scipy import ndimage\nimport matplotlib.pyplot as plt\n\nim = np.zeros((256, 256))\nim[64:-64, 64:-64] = 1\n\nim = ndimage.rotate(im, 15, mode='constant')\nim = ndimage.gaussian_filter(im, 8)\n\nsx = ndimage.sobel(im, axis=0, mode='constant')\nsy = ndimage.sobel(im, axis=1, mode='constant')\nsob = np.hypot(sx, sy)\n\nplt.figure(figsize=(16, 5))\nplt.subplot(141)\nplt.imshow(im, cmap=plt.cm.gray)\nplt.axis('off')\nplt.title('square', fontsize=20)\nplt.subplot(142)\nplt.imshow(sx)\nplt.axis('off')\nplt.title('Sobel (x direction)', fontsize=20)\nplt.subplot(143)\nplt.imshow(sob)\nplt.axis('off')\nplt.title('Sobel filter', fontsize=20)\n\nim += 0.07*np.random.random(im.shape)\n\nsx = ndimage.sobel(im, axis=0, mode='constant')\nsy = ndimage.sobel(im, axis=1, mode='constant')\nsob = np.hypot(sx, sy)\n\nplt.subplot(144)\nplt.imshow(sob)\nplt.axis('off')\nplt.title('Sobel for noisy image', fontsize=20)\n\n\n\nplt.subplots_adjust(wspace=0.02, hspace=0.02, top=1, bottom=0, left=0, right=0.9)\n\nplt.show()"
      ]
    }
  ],
  "metadata": {
    "kernelspec": {
      "display_name": "Python 3",
      "language": "python",
      "name": "python3"
    },
    "language_info": {
      "codemirror_mode": {
        "name": "ipython",
        "version": 3
      },
      "file_extension": ".py",
      "mimetype": "text/x-python",
      "name": "python",
      "nbconvert_exporter": "python",
      "pygments_lexer": "ipython3",
      "version": "3.6.13"
    }
  },
  "nbformat": 4,
  "nbformat_minor": 0
}