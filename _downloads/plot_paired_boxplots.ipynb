{
  "cells": [
    {
      "cell_type": "code",
      "execution_count": null,
      "metadata": {
        "collapsed": false
      },
      "outputs": [],
      "source": [
        "%matplotlib inline"
      ]
    },
    {
      "cell_type": "markdown",
      "metadata": {},
      "source": [
        "\nBoxplots and paired differences\n=================================================\n\nPlot boxplots for FSIQ, PIQ, and the paired difference between the two:\nwhile the spread (error bars) for FSIQ and PIQ are very large, there is a\nsystematic (common) effect due to the subjects. This effect is cancelled\nout in the difference and the spread of the difference (\"paired\" by\nsubject) is much smaller than the spread of the individual measures.\n\n\n"
      ]
    },
    {
      "cell_type": "code",
      "execution_count": null,
      "metadata": {
        "collapsed": false
      },
      "outputs": [],
      "source": [
        "import pandas\n\nimport matplotlib.pyplot as plt\n\ndata = pandas.read_csv('brain_size.csv', sep=';', na_values='.')\n\n# Box plot of FSIQ and PIQ (different measures od IQ)\nplt.figure(figsize=(4, 3))\ndata.boxplot(column=['FSIQ', 'PIQ'])\n\n# Boxplot of the difference\nplt.figure(figsize=(4, 3))\nplt.boxplot(data['FSIQ'] - data['PIQ'])\nplt.xticks((1, ), ('FSIQ - PIQ', ))\n\nplt.show()"
      ]
    }
  ],
  "metadata": {
    "kernelspec": {
      "display_name": "Python 3",
      "language": "python",
      "name": "python3"
    },
    "language_info": {
      "codemirror_mode": {
        "name": "ipython",
        "version": 3
      },
      "file_extension": ".py",
      "mimetype": "text/x-python",
      "name": "python",
      "nbconvert_exporter": "python",
      "pygments_lexer": "ipython3",
      "version": "3.6.13"
    }
  },
  "nbformat": 4,
  "nbformat_minor": 0
}