{
  "cells": [
    {
      "cell_type": "code",
      "execution_count": null,
      "metadata": {
        "collapsed": false
      },
      "outputs": [],
      "source": [
        "%matplotlib inline"
      ]
    },
    {
      "cell_type": "markdown",
      "metadata": {},
      "source": [
        "\n# A demo of 1D interpolation\n\n\n\n"
      ]
    },
    {
      "cell_type": "code",
      "execution_count": null,
      "metadata": {
        "collapsed": false
      },
      "outputs": [],
      "source": [
        "# Generate data\nimport numpy as np\nnp.random.seed(0)\nmeasured_time = np.linspace(0, 1, 10)\nnoise = 1e-1 * (np.random.random(10)*2 - 1)\nmeasures = np.sin(2 * np.pi * measured_time) + noise\n\n# Interpolate it to new time points\nfrom scipy.interpolate import interp1d\nlinear_interp = interp1d(measured_time, measures)\ninterpolation_time = np.linspace(0, 1, 50)\nlinear_results = linear_interp(interpolation_time)\ncubic_interp = interp1d(measured_time, measures, kind='cubic')\ncubic_results = cubic_interp(interpolation_time)\n\n# Plot the data and the interpolation\nfrom matplotlib import pyplot as plt\nplt.figure(figsize=(6, 4))\nplt.plot(measured_time, measures, 'o', ms=6, label='measures')\nplt.plot(interpolation_time, linear_results, label='linear interp')\nplt.plot(interpolation_time, cubic_results, label='cubic interp')\nplt.legend()\nplt.show()"
      ]
    }
  ],
  "metadata": {
    "kernelspec": {
      "display_name": "Python 3",
      "language": "python",
      "name": "python3"
    },
    "language_info": {
      "codemirror_mode": {
        "name": "ipython",
        "version": 3
      },
      "file_extension": ".py",
      "mimetype": "text/x-python",
      "name": "python",
      "nbconvert_exporter": "python",
      "pygments_lexer": "ipython3",
      "version": "3.6.13"
    }
  },
  "nbformat": 4,
  "nbformat_minor": 0
}