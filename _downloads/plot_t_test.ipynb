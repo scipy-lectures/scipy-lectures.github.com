{
  "cells": [
    {
      "cell_type": "code",
      "execution_count": null,
      "metadata": {
        "collapsed": false
      },
      "outputs": [],
      "source": [
        "%matplotlib inline"
      ]
    },
    {
      "cell_type": "markdown",
      "metadata": {},
      "source": [
        "\n# Comparing 2 sets of samples from Gaussians\n\n\n\n"
      ]
    },
    {
      "cell_type": "code",
      "execution_count": null,
      "metadata": {
        "collapsed": false
      },
      "outputs": [],
      "source": [
        "import numpy as np\nfrom matplotlib import pyplot as plt\n\n# Generates 2 sets of observations\nsamples1 = np.random.normal(0, size=1000)\nsamples2 = np.random.normal(1, size=1000)\n\n# Compute a histogram of the sample\nbins = np.linspace(-4, 4, 30)\nhistogram1, bins = np.histogram(samples1, bins=bins, density=True)\nhistogram2, bins = np.histogram(samples2, bins=bins, density=True)\n\nplt.figure(figsize=(6, 4))\nplt.hist(samples1, bins=bins, density=True, label=\"Samples 1\")\nplt.hist(samples2, bins=bins, density=True, label=\"Samples 2\")\nplt.legend(loc='best')\nplt.show()"
      ]
    }
  ],
  "metadata": {
    "kernelspec": {
      "display_name": "Python 3",
      "language": "python",
      "name": "python3"
    },
    "language_info": {
      "codemirror_mode": {
        "name": "ipython",
        "version": 3
      },
      "file_extension": ".py",
      "mimetype": "text/x-python",
      "name": "python",
      "nbconvert_exporter": "python",
      "pygments_lexer": "ipython3",
      "version": "3.6.13"
    }
  },
  "nbformat": 4,
  "nbformat_minor": 0
}