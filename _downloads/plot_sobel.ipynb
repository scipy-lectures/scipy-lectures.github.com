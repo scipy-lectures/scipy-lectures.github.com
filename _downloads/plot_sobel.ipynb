{
  "cells": [
    {
      "cell_type": "code",
      "execution_count": null,
      "metadata": {
        "collapsed": false
      },
      "outputs": [],
      "source": [
        "%matplotlib inline"
      ]
    },
    {
      "cell_type": "markdown",
      "metadata": {},
      "source": [
        "\nComputing horizontal gradients with the Sobel filter\n=====================================================\n\nThis example illustrates the use of the horizontal Sobel filter, to compute\nhorizontal gradients.\n\n"
      ]
    },
    {
      "cell_type": "code",
      "execution_count": null,
      "metadata": {
        "collapsed": false
      },
      "outputs": [],
      "source": [
        "from skimage import data\nfrom skimage import filters\nimport matplotlib.pyplot as plt\n\ntext = data.text()\nhsobel_text = filters.sobel_h(text)\n\nplt.figure(figsize=(12, 3))\n\nplt.subplot(121)\nplt.imshow(text, cmap='gray', interpolation='nearest')\nplt.axis('off')\nplt.subplot(122)\nplt.imshow(hsobel_text, cmap='nipy_spectral', interpolation='nearest')\nplt.axis('off')\nplt.tight_layout()\nplt.show()"
      ]
    }
  ],
  "metadata": {
    "kernelspec": {
      "display_name": "Python 3",
      "language": "python",
      "name": "python3"
    },
    "language_info": {
      "codemirror_mode": {
        "name": "ipython",
        "version": 3
      },
      "file_extension": ".py",
      "mimetype": "text/x-python",
      "name": "python",
      "nbconvert_exporter": "python",
      "pygments_lexer": "ipython3",
      "version": "3.6.13"
    }
  },
  "nbformat": 4,
  "nbformat_minor": 0
}