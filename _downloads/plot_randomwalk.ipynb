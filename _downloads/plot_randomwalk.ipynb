{
  "cells": [
    {
      "cell_type": "code",
      "execution_count": null,
      "metadata": {
        "collapsed": false
      },
      "outputs": [],
      "source": [
        "%matplotlib inline"
      ]
    },
    {
      "cell_type": "markdown",
      "metadata": {},
      "source": [
        "\nRandom walk exercise\n====================\n\nPlot distance as a function of time for a random walk\ntogether with the theoretical result\n\n\n"
      ]
    },
    {
      "cell_type": "code",
      "execution_count": null,
      "metadata": {
        "collapsed": false
      },
      "outputs": [],
      "source": [
        "import numpy as np\nimport matplotlib.pyplot as plt\n\n# We create 1000 realizations with 200 steps each\nn_stories = 1000\nt_max = 200\n\nt = np.arange(t_max)\n# Steps can be -1 or 1 (note that randint excludes the upper limit)\nsteps = 2 * np.random.randint(0, 1 + 1, (n_stories, t_max)) - 1\n\n# The time evolution of the position is obtained by successively\n# summing up individual steps. This is done for each of the\n# realizations, i.e. along axis 1.\npositions = np.cumsum(steps, axis=1)\n\n# Determine the time evolution of the mean square distance.\nsq_distance = positions**2\nmean_sq_distance = np.mean(sq_distance, axis=0)\n\n# Plot the distance d from the origin as a function of time and\n# compare with the theoretically expected result where d(t)\n# grows as a square root of time t.\nplt.figure(figsize=(4, 3)) \nplt.plot(t, np.sqrt(mean_sq_distance), 'g.', t, np.sqrt(t), 'y-') \nplt.xlabel(r\"$t$\") \nplt.ylabel(r\"$\\sqrt{\\langle (\\delta x)^2 \\rangle}$\") \nplt.tight_layout()\nplt.show()"
      ]
    }
  ],
  "metadata": {
    "kernelspec": {
      "display_name": "Python 3",
      "language": "python",
      "name": "python3"
    },
    "language_info": {
      "codemirror_mode": {
        "name": "ipython",
        "version": 3
      },
      "file_extension": ".py",
      "mimetype": "text/x-python",
      "name": "python",
      "nbconvert_exporter": "python",
      "pygments_lexer": "ipython3",
      "version": "3.6.13"
    }
  },
  "nbformat": 4,
  "nbformat_minor": 0
}