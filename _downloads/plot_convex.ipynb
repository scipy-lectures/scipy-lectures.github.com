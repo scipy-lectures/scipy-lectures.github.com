{
  "cells": [
    {
      "cell_type": "code",
      "execution_count": null,
      "metadata": {
        "collapsed": false
      },
      "outputs": [],
      "source": [
        "%matplotlib inline"
      ]
    },
    {
      "cell_type": "markdown",
      "metadata": {},
      "source": [
        "\nConvex function\n================\n\nA figure showing the definition of a convex function\n\n"
      ]
    },
    {
      "cell_type": "code",
      "execution_count": null,
      "metadata": {
        "collapsed": false
      },
      "outputs": [],
      "source": [
        "import numpy as np\nimport matplotlib.pyplot as plt\n\nx = np.linspace(-1, 2)\n\nplt.figure(1, figsize=(3, 2.5))\nplt.clf()\n\n# A convex function\nplt.plot(x, x**2, linewidth=2)\nplt.text(-.7, -.6**2, '$f$', size=20)\n\n# The tangent in one point\nplt.plot(x, 2*x - 1)\nplt.plot(1, 1, 'k+')\nplt.text(.3, -.75, \"Tangent to $f$\", size=15)\nplt.text(1, 1 - .5, 'C', size=15)\n\n# Convexity as barycenter\nplt.plot([.35, 1.85], [.35**2, 1.85**2])\nplt.plot([.35, 1.85], [.35**2, 1.85**2], 'k+')\nplt.text(.35 - .2, .35**2 + .1, 'A', size=15)\nplt.text(1.85 - .2, 1.85**2, 'B', size=15)\n\nplt.ylim(ymin=-1)\nplt.axis('off')\nplt.tight_layout()\n\n# Convexity as barycenter\nplt.figure(2, figsize=(3, 2.5))\nplt.clf()\nplt.plot(x, x**2 + np.exp(-5*(x - .5)**2), linewidth=2)\nplt.text(-.7, -.6**2, '$f$', size=20)\n\nplt.ylim(ymin=-1)\nplt.axis('off')\nplt.tight_layout()\nplt.show()"
      ]
    }
  ],
  "metadata": {
    "kernelspec": {
      "display_name": "Python 3",
      "language": "python",
      "name": "python3"
    },
    "language_info": {
      "codemirror_mode": {
        "name": "ipython",
        "version": 3
      },
      "file_extension": ".py",
      "mimetype": "text/x-python",
      "name": "python",
      "nbconvert_exporter": "python",
      "pygments_lexer": "ipython3",
      "version": "3.6.13"
    }
  },
  "nbformat": 4,
  "nbformat_minor": 0
}