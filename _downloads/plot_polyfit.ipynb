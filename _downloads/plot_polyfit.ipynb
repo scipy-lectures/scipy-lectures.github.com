{
  "cells": [
    {
      "cell_type": "code",
      "execution_count": null,
      "metadata": {
        "collapsed": false
      },
      "outputs": [],
      "source": [
        "%matplotlib inline"
      ]
    },
    {
      "cell_type": "markdown",
      "metadata": {},
      "source": [
        "\nFitting to polynomial\n=====================\n\nPlot noisy data and their polynomial fit\n\n\n"
      ]
    },
    {
      "cell_type": "code",
      "execution_count": null,
      "metadata": {
        "collapsed": false
      },
      "outputs": [],
      "source": [
        "import numpy as np\nimport matplotlib.pyplot as plt\n\nnp.random.seed(12)\n\nx = np.linspace(0, 1, 20)\ny = np.cos(x) + 0.3*np.random.rand(20)\np = np.poly1d(np.polyfit(x, y, 3))\n\nt = np.linspace(0, 1, 200)\nplt.plot(x, y, 'o', t, p(t), '-')\nplt.show()"
      ]
    }
  ],
  "metadata": {
    "kernelspec": {
      "display_name": "Python 3",
      "language": "python",
      "name": "python3"
    },
    "language_info": {
      "codemirror_mode": {
        "name": "ipython",
        "version": 3
      },
      "file_extension": ".py",
      "mimetype": "text/x-python",
      "name": "python",
      "nbconvert_exporter": "python",
      "pygments_lexer": "ipython3",
      "version": "3.6.13"
    }
  },
  "nbformat": 4,
  "nbformat_minor": 0
}