{
  "cells": [
    {
      "cell_type": "code",
      "execution_count": null,
      "metadata": {
        "collapsed": false
      },
      "outputs": [],
      "source": [
        "%matplotlib inline"
      ]
    },
    {
      "cell_type": "markdown",
      "metadata": {},
      "source": [
        "\nVisualizing factors influencing wages\n=====================================\n\nThis example uses seaborn to quickly plot various factors relating wages,\nexperience and eduction.\n\nSeaborn (https://seaborn.pydata.org) is a library that combines\nvisualization and statistical fits to show trends in data.\n\nNote that importing seaborn changes the matplotlib style to have an\n\"excel-like\" feeling. This changes affect other matplotlib figures. To\nrestore defaults once this example is run, we would need to call\nplt.rcdefaults().\n\n"
      ]
    },
    {
      "cell_type": "code",
      "execution_count": null,
      "metadata": {
        "collapsed": false
      },
      "outputs": [],
      "source": [
        "# Standard library imports\nimport urllib\nimport os\n\nimport matplotlib.pyplot as plt"
      ]
    },
    {
      "cell_type": "markdown",
      "metadata": {},
      "source": [
        "Load the data\n\n"
      ]
    },
    {
      "cell_type": "code",
      "execution_count": null,
      "metadata": {
        "collapsed": false
      },
      "outputs": [],
      "source": [
        "import pandas\n\nif not os.path.exists('wages.txt'):\n    # Download the file if it is not present\n    urllib.urlretrieve('http://lib.stat.cmu.edu/datasets/CPS_85_Wages',\n                       'wages.txt')\n\n# Give names to the columns\nnames = [\n    'EDUCATION: Number of years of education',\n    'SOUTH: 1=Person lives in South, 0=Person lives elsewhere',\n    'SEX: 1=Female, 0=Male',\n    'EXPERIENCE: Number of years of work experience',\n    'UNION: 1=Union member, 0=Not union member',\n    'WAGE: Wage (dollars per hour)',\n    'AGE: years',\n    'RACE: 1=Other, 2=Hispanic, 3=White',\n    'OCCUPATION: 1=Management, 2=Sales, 3=Clerical, 4=Service, 5=Professional, 6=Other',\n    'SECTOR: 0=Other, 1=Manufacturing, 2=Construction',\n    'MARR: 0=Unmarried,  1=Married',\n]\n\nshort_names = [n.split(':')[0] for n in names]\n\ndata = pandas.read_csv('wages.txt', skiprows=27, skipfooter=6, sep=None,\n                       header=None)\ndata.columns = short_names\n\n# Log-transform the wages, because they typically are increased with\n# multiplicative factors\nimport numpy as np\ndata['WAGE'] = np.log10(data['WAGE'])"
      ]
    },
    {
      "cell_type": "markdown",
      "metadata": {},
      "source": [
        "Plot scatter matrices highlighting different aspects\n\n"
      ]
    },
    {
      "cell_type": "code",
      "execution_count": null,
      "metadata": {
        "collapsed": false
      },
      "outputs": [],
      "source": [
        "import seaborn\nseaborn.pairplot(data, vars=['WAGE', 'AGE', 'EDUCATION'],\n                      kind='reg')\n\nseaborn.pairplot(data, vars=['WAGE', 'AGE', 'EDUCATION'],\n                      kind='reg', hue='SEX')\nplt.suptitle('Effect of gender: 1=Female, 0=Male')\n\nseaborn.pairplot(data, vars=['WAGE', 'AGE', 'EDUCATION'],\n                      kind='reg', hue='RACE')\nplt.suptitle('Effect of race: 1=Other, 2=Hispanic, 3=White')\n\nseaborn.pairplot(data, vars=['WAGE', 'AGE', 'EDUCATION'],\n                      kind='reg', hue='UNION')\nplt.suptitle('Effect of union: 1=Union member, 0=Not union member')"
      ]
    },
    {
      "cell_type": "markdown",
      "metadata": {},
      "source": [
        "Plot a simple regression\n\n"
      ]
    },
    {
      "cell_type": "code",
      "execution_count": null,
      "metadata": {
        "collapsed": false
      },
      "outputs": [],
      "source": [
        "seaborn.lmplot(y='WAGE', x='EDUCATION', data=data)\n\nplt.show()"
      ]
    }
  ],
  "metadata": {
    "kernelspec": {
      "display_name": "Python 3",
      "language": "python",
      "name": "python3"
    },
    "language_info": {
      "codemirror_mode": {
        "name": "ipython",
        "version": 3
      },
      "file_extension": ".py",
      "mimetype": "text/x-python",
      "name": "python",
      "nbconvert_exporter": "python",
      "pygments_lexer": "ipython3",
      "version": "3.6.13"
    }
  },
  "nbformat": 4,
  "nbformat_minor": 0
}