{
  "cells": [
    {
      "cell_type": "code",
      "execution_count": null,
      "metadata": {
        "collapsed": false
      },
      "outputs": [],
      "source": [
        "%matplotlib inline"
      ]
    },
    {
      "cell_type": "markdown",
      "metadata": {},
      "source": [
        "\nBlurring of images\n===================\n\nAn example showing various processes that blur an image.\n\n"
      ]
    },
    {
      "cell_type": "code",
      "execution_count": null,
      "metadata": {
        "collapsed": false
      },
      "outputs": [],
      "source": [
        "import scipy.misc\nfrom scipy import ndimage\nimport matplotlib.pyplot as plt\n\nface = scipy.misc.face(gray=True)\nblurred_face = ndimage.gaussian_filter(face, sigma=3)\nvery_blurred = ndimage.gaussian_filter(face, sigma=5)\nlocal_mean = ndimage.uniform_filter(face, size=11)\n\nplt.figure(figsize=(9, 3))\nplt.subplot(131)\nplt.imshow(blurred_face, cmap=plt.cm.gray)\nplt.axis('off')\nplt.subplot(132)\nplt.imshow(very_blurred, cmap=plt.cm.gray)\nplt.axis('off')\nplt.subplot(133)\nplt.imshow(local_mean, cmap=plt.cm.gray)\nplt.axis('off')\n\nplt.subplots_adjust(wspace=0, hspace=0., top=0.99, bottom=0.01,\n                    left=0.01, right=0.99)\n\nplt.show()"
      ]
    }
  ],
  "metadata": {
    "kernelspec": {
      "display_name": "Python 3",
      "language": "python",
      "name": "python3"
    },
    "language_info": {
      "codemirror_mode": {
        "name": "ipython",
        "version": 3
      },
      "file_extension": ".py",
      "mimetype": "text/x-python",
      "name": "python",
      "nbconvert_exporter": "python",
      "pygments_lexer": "ipython3",
      "version": "3.6.13"
    }
  },
  "nbformat": 4,
  "nbformat_minor": 0
}