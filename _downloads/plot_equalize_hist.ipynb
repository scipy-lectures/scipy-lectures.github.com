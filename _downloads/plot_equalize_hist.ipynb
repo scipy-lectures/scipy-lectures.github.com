{
  "cells": [
    {
      "cell_type": "code",
      "execution_count": null,
      "metadata": {
        "collapsed": false
      },
      "outputs": [],
      "source": [
        "%matplotlib inline"
      ]
    },
    {
      "cell_type": "markdown",
      "metadata": {},
      "source": [
        "\nEqualizing the histogram of an image\n=====================================\n\nHistogram equalizing makes images have a uniform histogram.\n\n"
      ]
    },
    {
      "cell_type": "code",
      "execution_count": null,
      "metadata": {
        "collapsed": false
      },
      "outputs": [],
      "source": [
        "from skimage import data, exposure\nimport matplotlib.pyplot as plt\n\ncamera = data.camera()\ncamera_equalized = exposure.equalize_hist(camera)\n\nplt.figure(figsize=(7, 3))\n\nplt.subplot(121)\nplt.imshow(camera, cmap='gray', interpolation='nearest')\nplt.axis('off')\nplt.subplot(122)\nplt.imshow(camera_equalized, cmap='gray', interpolation='nearest')\nplt.axis('off')\nplt.tight_layout()\nplt.show()"
      ]
    }
  ],
  "metadata": {
    "kernelspec": {
      "display_name": "Python 3",
      "language": "python",
      "name": "python3"
    },
    "language_info": {
      "codemirror_mode": {
        "name": "ipython",
        "version": 3
      },
      "file_extension": ".py",
      "mimetype": "text/x-python",
      "name": "python",
      "nbconvert_exporter": "python",
      "pygments_lexer": "ipython3",
      "version": "3.6.13"
    }
  },
  "nbformat": 4,
  "nbformat_minor": 0
}