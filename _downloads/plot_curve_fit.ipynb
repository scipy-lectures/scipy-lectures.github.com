{
  "cells": [
    {
      "cell_type": "code",
      "execution_count": null,
      "metadata": {
        "collapsed": false
      },
      "outputs": [],
      "source": [
        "%matplotlib inline"
      ]
    },
    {
      "cell_type": "markdown",
      "metadata": {},
      "source": [
        "\n# Curve fitting\n\n\nDemos a simple curve fitting\n\n"
      ]
    },
    {
      "cell_type": "markdown",
      "metadata": {},
      "source": [
        "First generate some data\n\n"
      ]
    },
    {
      "cell_type": "code",
      "execution_count": null,
      "metadata": {
        "collapsed": false
      },
      "outputs": [],
      "source": [
        "import numpy as np\n\n# Seed the random number generator for reproducibility\nnp.random.seed(0)\n\nx_data = np.linspace(-5, 5, num=50)\ny_data = 2.9 * np.sin(1.5 * x_data) + np.random.normal(size=50)\n\n# And plot it\nimport matplotlib.pyplot as plt\nplt.figure(figsize=(6, 4))\nplt.scatter(x_data, y_data)"
      ]
    },
    {
      "cell_type": "markdown",
      "metadata": {},
      "source": [
        "Now fit a simple sine function to the data\n\n"
      ]
    },
    {
      "cell_type": "code",
      "execution_count": null,
      "metadata": {
        "collapsed": false
      },
      "outputs": [],
      "source": [
        "from scipy import optimize\n\ndef test_func(x, a, b):\n    return a * np.sin(b * x)\n\nparams, params_covariance = optimize.curve_fit(test_func, x_data, y_data,\n                                               p0=[2, 2])\n\nprint(params)"
      ]
    },
    {
      "cell_type": "markdown",
      "metadata": {},
      "source": [
        "And plot the resulting curve on the data\n\n"
      ]
    },
    {
      "cell_type": "code",
      "execution_count": null,
      "metadata": {
        "collapsed": false
      },
      "outputs": [],
      "source": [
        "plt.figure(figsize=(6, 4))\nplt.scatter(x_data, y_data, label='Data')\nplt.plot(x_data, test_func(x_data, params[0], params[1]),\n         label='Fitted function')\n\nplt.legend(loc='best')\n\nplt.show()"
      ]
    }
  ],
  "metadata": {
    "kernelspec": {
      "display_name": "Python 3",
      "language": "python",
      "name": "python3"
    },
    "language_info": {
      "codemirror_mode": {
        "name": "ipython",
        "version": 3
      },
      "file_extension": ".py",
      "mimetype": "text/x-python",
      "name": "python",
      "nbconvert_exporter": "python",
      "pygments_lexer": "ipython3",
      "version": "3.6.13"
    }
  },
  "nbformat": 4,
  "nbformat_minor": 0
}