{
  "cells": [
    {
      "cell_type": "code",
      "execution_count": null,
      "metadata": {
        "collapsed": false
      },
      "outputs": [],
      "source": [
        "%matplotlib inline"
      ]
    },
    {
      "cell_type": "markdown",
      "metadata": {},
      "source": [
        "\nConstraint optimization: visualizing the geometry\n==================================================\n\nA small figure explaining optimization with constraints\n\n"
      ]
    },
    {
      "cell_type": "code",
      "execution_count": null,
      "metadata": {
        "collapsed": false
      },
      "outputs": [],
      "source": [
        "import numpy as np\nimport matplotlib.pyplot as plt\nfrom scipy import optimize\n\nx, y = np.mgrid[-2.9:5.8:.05, -2.5:5:.05]\nx = x.T\ny = y.T\n\nfor i in (1, 2):\n    # Create 2 figure: only the second one will have the optimization\n    # path\n    plt.figure(i, figsize=(3, 2.5))\n    plt.clf()\n    plt.axes([0, 0, 1, 1])\n\n    contours = plt.contour(np.sqrt((x - 3)**2 + (y - 2)**2),\n                        extent=[-3, 6, -2.5, 5],\n                        cmap=plt.cm.gnuplot)\n    plt.clabel(contours,\n            inline=1,\n            fmt='%1.1f',\n            fontsize=14)\n    plt.plot([-1.5, -1.5,  1.5,  1.5, -1.5],\n            [-1.5,  1.5,  1.5, -1.5, -1.5], 'k', linewidth=2)\n    plt.fill_between([ -1.5,  1.5],\n                    [ -1.5, -1.5],\n                    [  1.5,  1.5],\n                    color='.8')\n    plt.axvline(0, color='k')\n    plt.axhline(0, color='k')\n\n    plt.text(-.9, 4.4, '$x_2$', size=20)\n    plt.text(5.6, -.6, '$x_1$', size=20)\n    plt.axis('equal')\n    plt.axis('off')\n\n# And now plot the optimization path\naccumulator = list()\n\ndef f(x):\n    # Store the list of function calls\n    accumulator.append(x)\n    return np.sqrt((x[0] - 3)**2 + (x[1] - 2)**2)\n\n\n# We don't use the gradient, as with the gradient, L-BFGS is too fast,\n# and finds the optimum without showing us a pretty path\ndef f_prime(x):\n    r = np.sqrt((x[0] - 3)**2 + (x[0] - 2)**2)\n    return np.array(((x[0] - 3)/r, (x[0] - 2)/r))\n\noptimize.minimize(f, np.array([0, 0]), method=\"L-BFGS-B\",\n                     bounds=((-1.5, 1.5), (-1.5, 1.5)))\n\naccumulated = np.array(accumulator)\nplt.plot(accumulated[:, 0], accumulated[:, 1])\n\nplt.show()"
      ]
    }
  ],
  "metadata": {
    "kernelspec": {
      "display_name": "Python 3",
      "language": "python",
      "name": "python3"
    },
    "language_info": {
      "codemirror_mode": {
        "name": "ipython",
        "version": 3
      },
      "file_extension": ".py",
      "mimetype": "text/x-python",
      "name": "python",
      "nbconvert_exporter": "python",
      "pygments_lexer": "ipython3",
      "version": "3.6.13"
    }
  },
  "nbformat": 4,
  "nbformat_minor": 0
}