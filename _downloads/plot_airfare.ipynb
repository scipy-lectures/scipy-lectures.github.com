{
  "cells": [
    {
      "cell_type": "code",
      "execution_count": null,
      "metadata": {
        "collapsed": false
      },
      "outputs": [],
      "source": [
        "%matplotlib inline"
      ]
    },
    {
      "cell_type": "markdown",
      "metadata": {},
      "source": [
        "\nAir fares before and after 9/11\n=====================================\n\nThis is a business-intelligence (BI) like application.\n\nWhat is interesting here is that we may want to study fares as a function\nof the year, paired accordingly to the trips, or forgetting the year,\nonly as a function of the trip endpoints.\n\nUsing statsmodels' linear models, we find that both with an OLS (ordinary\nleast square) and a robust fit, the intercept and the slope are\nsignificantly non-zero: the air fares have decreased between 2000 and\n2001, and their dependence on distance travelled has also decreased\n\n\n"
      ]
    },
    {
      "cell_type": "code",
      "execution_count": null,
      "metadata": {
        "collapsed": false
      },
      "outputs": [],
      "source": [
        "# Standard library imports\nimport urllib\nimport os"
      ]
    },
    {
      "cell_type": "markdown",
      "metadata": {},
      "source": [
        "Load the data\n\n"
      ]
    },
    {
      "cell_type": "code",
      "execution_count": null,
      "metadata": {
        "collapsed": false
      },
      "outputs": [],
      "source": [
        "import pandas\n\nif not os.path.exists('airfares.txt'):\n    # Download the file if it is not present\n    urllib.urlretrieve(\n        'http://www.stat.ufl.edu/~winner/data/airq4.dat',\n                       'airfares.txt')\n\n# As a seperator, ' +' is a regular expression that means 'one of more\n# space'\ndata = pandas.read_csv('airfares.txt', sep=' +', header=0,\n                       names=['city1', 'city2', 'pop1', 'pop2',\n                              'dist', 'fare_2000', 'nb_passengers_2000',\n                              'fare_2001', 'nb_passengers_2001'])\n\n# we log-transform the number of passengers\nimport numpy as np\ndata['nb_passengers_2000'] = np.log10(data['nb_passengers_2000'])\ndata['nb_passengers_2001'] = np.log10(data['nb_passengers_2001'])"
      ]
    },
    {
      "cell_type": "markdown",
      "metadata": {},
      "source": [
        "Make a dataframe whith the year as an attribute, instead of separate columns\n\n"
      ]
    },
    {
      "cell_type": "code",
      "execution_count": null,
      "metadata": {
        "collapsed": false
      },
      "outputs": [],
      "source": [
        "# This involves a small danse in which we separate the dataframes in 2,\n# one for year 2000, and one for 2001, before concatenating again.\n\n# Make an index of each flight\ndata_flat = data.reset_index()\n\ndata_2000 = data_flat[['city1', 'city2', 'pop1', 'pop2',\n                       'dist', 'fare_2000', 'nb_passengers_2000']]\n# Rename the columns\ndata_2000.columns = ['city1', 'city2', 'pop1', 'pop2', 'dist', 'fare',\n                     'nb_passengers']\n# Add a column with the year\ndata_2000['year'] = 2000\n\ndata_2001 = data_flat[['city1', 'city2', 'pop1', 'pop2',\n                       'dist', 'fare_2001', 'nb_passengers_2001']]\n# Rename the columns\ndata_2001.columns = ['city1', 'city2', 'pop1', 'pop2', 'dist', 'fare',\n                     'nb_passengers']\n# Add a column with the year\ndata_2001['year'] = 2001\n\ndata_flat = pandas.concat([data_2000, data_2001])"
      ]
    },
    {
      "cell_type": "markdown",
      "metadata": {},
      "source": [
        "Plot scatter matrices highlighting different aspects\n\n"
      ]
    },
    {
      "cell_type": "code",
      "execution_count": null,
      "metadata": {
        "collapsed": false
      },
      "outputs": [],
      "source": [
        "import seaborn\nseaborn.pairplot(data_flat, vars=['fare', 'dist', 'nb_passengers'],\n                 kind='reg', markers='.')\n\n# A second plot, to show the effect of the year (ie the 9/11 effect)\nseaborn.pairplot(data_flat, vars=['fare', 'dist', 'nb_passengers'],\n                 kind='reg', hue='year', markers='.')"
      ]
    },
    {
      "cell_type": "markdown",
      "metadata": {},
      "source": [
        "Plot the difference in fare\n\n"
      ]
    },
    {
      "cell_type": "code",
      "execution_count": null,
      "metadata": {
        "collapsed": false
      },
      "outputs": [],
      "source": [
        "import matplotlib.pyplot as plt\n\nplt.figure(figsize=(5, 2))\nseaborn.boxplot(data.fare_2001 - data.fare_2000)\nplt.title('Fare: 2001 - 2000')\nplt.subplots_adjust()\n\nplt.figure(figsize=(5, 2))\nseaborn.boxplot(data.nb_passengers_2001 - data.nb_passengers_2000)\nplt.title('NB passengers: 2001 - 2000')\nplt.subplots_adjust()"
      ]
    },
    {
      "cell_type": "markdown",
      "metadata": {},
      "source": [
        "Statistical testing: dependence of fare on distance and number of\npassengers\n\n"
      ]
    },
    {
      "cell_type": "code",
      "execution_count": null,
      "metadata": {
        "collapsed": false
      },
      "outputs": [],
      "source": [
        "import statsmodels.formula.api as sm\n\nresult = sm.ols(formula='fare ~ 1 + dist + nb_passengers', data=data_flat).fit()\nprint(result.summary())\n\n# Using a robust fit\nresult = sm.rlm(formula='fare ~ 1 + dist + nb_passengers', data=data_flat).fit()\nprint(result.summary())"
      ]
    },
    {
      "cell_type": "markdown",
      "metadata": {},
      "source": [
        "Statistical testing: regression of fare on distance: 2001/2000 difference\n\n"
      ]
    },
    {
      "cell_type": "code",
      "execution_count": null,
      "metadata": {
        "collapsed": false
      },
      "outputs": [],
      "source": [
        "result = sm.ols(formula='fare_2001 - fare_2000 ~ 1 + dist', data=data).fit()\nprint(result.summary())\n\n# Plot the corresponding regression\ndata['fare_difference'] = data['fare_2001'] - data['fare_2000']\nseaborn.lmplot(x='dist', y='fare_difference', data=data)\n\nplt.show()"
      ]
    }
  ],
  "metadata": {
    "kernelspec": {
      "display_name": "Python 3",
      "language": "python",
      "name": "python3"
    },
    "language_info": {
      "codemirror_mode": {
        "name": "ipython",
        "version": 3
      },
      "file_extension": ".py",
      "mimetype": "text/x-python",
      "name": "python",
      "nbconvert_exporter": "python",
      "pygments_lexer": "ipython3",
      "version": "3.6.13"
    }
  },
  "nbformat": 4,
  "nbformat_minor": 0
}