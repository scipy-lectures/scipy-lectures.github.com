{
  "cells": [
    {
      "cell_type": "code",
      "execution_count": null,
      "metadata": {
        "collapsed": false
      },
      "outputs": [],
      "source": [
        "%matplotlib inline"
      ]
    },
    {
      "cell_type": "markdown",
      "metadata": {},
      "source": [
        "\n# Plotting and manipulating FFTs for filtering\n\n\nPlot the power of the FFT of a signal and inverse FFT back to reconstruct\na signal.\n\nThis example demonstrate :func:`scipy.fftpack.fft`,\n:func:`scipy.fftpack.fftfreq` and :func:`scipy.fftpack.ifft`. It\nimplements a basic filter that is very suboptimal, and should not be\nused.\n\n\n"
      ]
    },
    {
      "cell_type": "code",
      "execution_count": null,
      "metadata": {
        "collapsed": false
      },
      "outputs": [],
      "source": [
        "import numpy as np\nfrom scipy import fftpack\nfrom matplotlib import pyplot as plt"
      ]
    },
    {
      "cell_type": "markdown",
      "metadata": {},
      "source": [
        "Generate the signal\n###########################################################\n\n"
      ]
    },
    {
      "cell_type": "code",
      "execution_count": null,
      "metadata": {
        "collapsed": false
      },
      "outputs": [],
      "source": [
        "# Seed the random number generator\nnp.random.seed(1234)\n\ntime_step = 0.02\nperiod = 5.\n\ntime_vec = np.arange(0, 20, time_step)\nsig = (np.sin(2 * np.pi / period * time_vec)\n       + 0.5 * np.random.randn(time_vec.size))\n\nplt.figure(figsize=(6, 5))\nplt.plot(time_vec, sig, label='Original signal')"
      ]
    },
    {
      "cell_type": "markdown",
      "metadata": {},
      "source": [
        "Compute and plot the power\n###########################################################\n\n"
      ]
    },
    {
      "cell_type": "code",
      "execution_count": null,
      "metadata": {
        "collapsed": false
      },
      "outputs": [],
      "source": [
        "# The FFT of the signal\nsig_fft = fftpack.fft(sig)\n\n# And the power (sig_fft is of complex dtype)\npower = np.abs(sig_fft)**2\n\n# The corresponding frequencies\nsample_freq = fftpack.fftfreq(sig.size, d=time_step)\n\n# Plot the FFT power\nplt.figure(figsize=(6, 5))\nplt.plot(sample_freq, power)\nplt.xlabel('Frequency [Hz]')\nplt.ylabel('plower')\n\n# Find the peak frequency: we can focus on only the positive frequencies\npos_mask = np.where(sample_freq > 0)\nfreqs = sample_freq[pos_mask]\npeak_freq = freqs[power[pos_mask].argmax()]\n\n# Check that it does indeed correspond to the frequency that we generate\n# the signal with\nnp.allclose(peak_freq, 1./period)\n\n# An inner plot to show the peak frequency\naxes = plt.axes([0.55, 0.3, 0.3, 0.5])\nplt.title('Peak frequency')\nplt.plot(freqs[:8], power[pos_mask][:8])\nplt.setp(axes, yticks=[])\n\n# scipy.signal.find_peaks_cwt can also be used for more advanced\n# peak detection"
      ]
    },
    {
      "cell_type": "markdown",
      "metadata": {},
      "source": [
        "Remove all the high frequencies\n###########################################################\n\n We now remove all the high frequencies and transform back from\n frequencies to signal.\n\n"
      ]
    },
    {
      "cell_type": "code",
      "execution_count": null,
      "metadata": {
        "collapsed": false
      },
      "outputs": [],
      "source": [
        "high_freq_fft = sig_fft.copy()\nhigh_freq_fft[np.abs(sample_freq) > peak_freq] = 0\nfiltered_sig = fftpack.ifft(high_freq_fft)\n\nplt.figure(figsize=(6, 5))\nplt.plot(time_vec, sig, label='Original signal')\nplt.plot(time_vec, filtered_sig, linewidth=3, label='Filtered signal')\nplt.xlabel('Time [s]')\nplt.ylabel('Amplitude')\n\nplt.legend(loc='best')"
      ]
    },
    {
      "cell_type": "markdown",
      "metadata": {},
      "source": [
        "**Note** This is actually a bad way of creating a filter: such brutal\ncut-off in frequency space does not control distorsion on the signal.\n\nFilters should be created using the scipy filter design code\n\n"
      ]
    },
    {
      "cell_type": "code",
      "execution_count": null,
      "metadata": {
        "collapsed": false
      },
      "outputs": [],
      "source": [
        "plt.show()"
      ]
    }
  ],
  "metadata": {
    "kernelspec": {
      "display_name": "Python 3",
      "language": "python",
      "name": "python3"
    },
    "language_info": {
      "codemirror_mode": {
        "name": "ipython",
        "version": 3
      },
      "file_extension": ".py",
      "mimetype": "text/x-python",
      "name": "python",
      "nbconvert_exporter": "python",
      "pygments_lexer": "ipython3",
      "version": "3.6.13"
    }
  },
  "nbformat": 4,
  "nbformat_minor": 0
}