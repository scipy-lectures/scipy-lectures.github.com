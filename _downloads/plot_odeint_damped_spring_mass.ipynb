{
  "cells": [
    {
      "cell_type": "code",
      "execution_count": null,
      "metadata": {
        "collapsed": false
      },
      "outputs": [],
      "source": [
        "%matplotlib inline"
      ]
    },
    {
      "cell_type": "markdown",
      "metadata": {},
      "source": [
        "\n# Integrate the Damped spring-mass oscillator\n\n\n\n\n"
      ]
    },
    {
      "cell_type": "code",
      "execution_count": null,
      "metadata": {
        "collapsed": false
      },
      "outputs": [],
      "source": [
        "import numpy as np\nfrom scipy.integrate import odeint\nfrom matplotlib import pyplot as plt\n\nmass = 0.5  # kg\nkspring = 4  # N/m\ncviscous = 0.4  # N s/m\n\n\neps = cviscous / (2 * mass * np.sqrt(kspring/mass))\nomega = np.sqrt(kspring / mass)\n\n\ndef calc_deri(yvec, time, eps, omega):\n    return (yvec[1], -eps * omega * yvec[1] - omega **2 * yvec[0])\n\ntime_vec = np.linspace(0, 10, 100)\nyinit = (1, 0)\nyarr = odeint(calc_deri, yinit, time_vec, args=(eps, omega))\n\nplt.figure(figsize=(4, 3))\nplt.plot(time_vec, yarr[:, 0], label='y')\nplt.plot(time_vec, yarr[:, 1], label=\"y'\")\nplt.legend(loc='best')\nplt.show()"
      ]
    }
  ],
  "metadata": {
    "kernelspec": {
      "display_name": "Python 3",
      "language": "python",
      "name": "python3"
    },
    "language_info": {
      "codemirror_mode": {
        "name": "ipython",
        "version": 3
      },
      "file_extension": ".py",
      "mimetype": "text/x-python",
      "name": "python",
      "nbconvert_exporter": "python",
      "pygments_lexer": "ipython3",
      "version": "3.6.13"
    }
  },
  "nbformat": 4,
  "nbformat_minor": 0
}