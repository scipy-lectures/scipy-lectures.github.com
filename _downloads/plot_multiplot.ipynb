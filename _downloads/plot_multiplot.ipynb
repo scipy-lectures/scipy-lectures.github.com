{
  "cells": [
    {
      "cell_type": "code",
      "execution_count": null,
      "metadata": {
        "collapsed": false
      },
      "outputs": [],
      "source": [
        "%matplotlib inline"
      ]
    },
    {
      "cell_type": "markdown",
      "metadata": {},
      "source": [
        "\nSubplots\n=========\n\nShow multiple subplots in matplotlib.\n\n"
      ]
    },
    {
      "cell_type": "code",
      "execution_count": null,
      "metadata": {
        "collapsed": false
      },
      "outputs": [],
      "source": [
        "import matplotlib.pyplot as plt\n\nfig = plt.figure()\nfig.subplots_adjust(bottom=0.025, left=0.025, top = 0.975, right=0.975)\n\nplt.subplot(2, 1, 1)\nplt.xticks([]), plt.yticks([])\n\nplt.subplot(2, 3, 4)\nplt.xticks([])\nplt.yticks([])\n\nplt.subplot(2, 3, 5)\nplt.xticks([])\nplt.yticks([])\n\nplt.subplot(2, 3, 6)\nplt.xticks([])\nplt.yticks([])\n\nplt.show()"
      ]
    }
  ],
  "metadata": {
    "kernelspec": {
      "display_name": "Python 3",
      "language": "python",
      "name": "python3"
    },
    "language_info": {
      "codemirror_mode": {
        "name": "ipython",
        "version": 3
      },
      "file_extension": ".py",
      "mimetype": "text/x-python",
      "name": "python",
      "nbconvert_exporter": "python",
      "pygments_lexer": "ipython3",
      "version": "3.6.13"
    }
  },
  "nbformat": 4,
  "nbformat_minor": 0
}