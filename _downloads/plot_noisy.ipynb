{
  "cells": [
    {
      "cell_type": "code",
      "execution_count": null,
      "metadata": {
        "collapsed": false
      },
      "outputs": [],
      "source": [
        "%matplotlib inline"
      ]
    },
    {
      "cell_type": "markdown",
      "metadata": {},
      "source": [
        "\nNoisy optimization problem\n===========================\n\nDraws a figure explaining noisy vs non-noisy optimization\n\n"
      ]
    },
    {
      "cell_type": "code",
      "execution_count": null,
      "metadata": {
        "collapsed": false
      },
      "outputs": [],
      "source": [
        "import numpy as np\nimport matplotlib.pyplot as plt\n\nnp.random.seed(0)\n\nx = np.linspace(-5, 5, 101)\nx_ = np.linspace(-5, 5, 31)\n\ndef f(x):\n    return -np.exp(-x**2)\n\n# A smooth function\nplt.figure(1, figsize=(3, 2.5))\nplt.clf()\n\nplt.plot(x_, f(x_) + .2*np.random.normal(size=31), linewidth=2)\nplt.plot(x, f(x), linewidth=2)\n\nplt.ylim(ymin=-1.3)\nplt.axis('off')\nplt.tight_layout()\nplt.show()"
      ]
    }
  ],
  "metadata": {
    "kernelspec": {
      "display_name": "Python 3",
      "language": "python",
      "name": "python3"
    },
    "language_info": {
      "codemirror_mode": {
        "name": "ipython",
        "version": 3
      },
      "file_extension": ".py",
      "mimetype": "text/x-python",
      "name": "python",
      "nbconvert_exporter": "python",
      "pygments_lexer": "ipython3",
      "version": "3.6.13"
    }
  },
  "nbformat": 4,
  "nbformat_minor": 0
}