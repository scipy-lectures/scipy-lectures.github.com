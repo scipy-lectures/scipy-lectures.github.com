{
  "cells": [
    {
      "cell_type": "code",
      "execution_count": null,
      "metadata": {
        "collapsed": false
      },
      "outputs": [],
      "source": [
        "%matplotlib inline"
      ]
    },
    {
      "cell_type": "markdown",
      "metadata": {},
      "source": [
        "\nAffine transform\n=================\n\nWarping and affine transforms of images.\n\n"
      ]
    },
    {
      "cell_type": "code",
      "execution_count": null,
      "metadata": {
        "collapsed": false
      },
      "outputs": [],
      "source": [
        "from matplotlib import pyplot as plt\n\nfrom skimage import data\nfrom skimage.feature import corner_harris, corner_subpix, corner_peaks\nfrom skimage.transform import warp, AffineTransform\n\n\ntform = AffineTransform(scale=(1.3, 1.1), rotation=1, shear=0.7,\n                        translation=(210, 50))\nimage = warp(data.checkerboard(), tform.inverse, output_shape=(350, 350))\n\ncoords = corner_peaks(corner_harris(image), min_distance=5)\ncoords_subpix = corner_subpix(image, coords, window_size=13)\n\nplt.gray()\nplt.imshow(image, interpolation='nearest')\nplt.plot(coords_subpix[:, 1], coords_subpix[:, 0], '+r', markersize=15, mew=5)\nplt.plot(coords[:, 1], coords[:, 0], '.b', markersize=7)\nplt.axis('off')\nplt.show()"
      ]
    }
  ],
  "metadata": {
    "kernelspec": {
      "display_name": "Python 3",
      "language": "python",
      "name": "python3"
    },
    "language_info": {
      "codemirror_mode": {
        "name": "ipython",
        "version": 3
      },
      "file_extension": ".py",
      "mimetype": "text/x-python",
      "name": "python",
      "nbconvert_exporter": "python",
      "pygments_lexer": "ipython3",
      "version": "3.6.13"
    }
  },
  "nbformat": 4,
  "nbformat_minor": 0
}