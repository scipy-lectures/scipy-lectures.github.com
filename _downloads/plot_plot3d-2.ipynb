{
  "cells": [
    {
      "cell_type": "code",
      "execution_count": null,
      "metadata": {
        "collapsed": false
      },
      "outputs": [],
      "source": [
        "%matplotlib inline"
      ]
    },
    {
      "cell_type": "markdown",
      "metadata": {},
      "source": [
        "\n3D plotting\n============\n\nDemo 3D plotting with matplotlib and style the figure.\n\n"
      ]
    },
    {
      "cell_type": "code",
      "execution_count": null,
      "metadata": {
        "collapsed": false
      },
      "outputs": [],
      "source": [
        "import matplotlib.pyplot as plt\nfrom mpl_toolkits.mplot3d import axes3d\n\nax = plt.gca(projection='3d')\nX, Y, Z = axes3d.get_test_data(0.05)\ncset = ax.contourf(X, Y, Z)\nax.clabel(cset, fontsize=9, inline=1)\n\nplt.xticks([])\nplt.yticks([])\nax.set_zticks([])\n\n\nax.text2D(-0.05, 1.05, \" 3D plots             \\n\",\n          horizontalalignment='left',\n          verticalalignment='top',\n          bbox=dict(facecolor='white', alpha=1.0),\n          family='Lint McCree Intl BB',\n          size='x-large',\n          transform=plt.gca().transAxes)\n\nax.text2D(-0.05, .975, \" Plot 2D or 3D data\",\n          horizontalalignment='left',\n          verticalalignment='top',\n          family='Lint McCree Intl BB',\n          size='medium',\n          transform=plt.gca().transAxes)\n\nplt.show()"
      ]
    }
  ],
  "metadata": {
    "kernelspec": {
      "display_name": "Python 3",
      "language": "python",
      "name": "python3"
    },
    "language_info": {
      "codemirror_mode": {
        "name": "ipython",
        "version": 3
      },
      "file_extension": ".py",
      "mimetype": "text/x-python",
      "name": "python",
      "nbconvert_exporter": "python",
      "pygments_lexer": "ipython3",
      "version": "3.6.13"
    }
  },
  "nbformat": 4,
  "nbformat_minor": 0
}