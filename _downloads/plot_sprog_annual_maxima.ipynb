{
  "cells": [
    {
      "cell_type": "code",
      "execution_count": null,
      "metadata": {
        "collapsed": false
      },
      "outputs": [],
      "source": [
        "%matplotlib inline"
      ]
    },
    {
      "cell_type": "markdown",
      "metadata": {},
      "source": [
        "\nThe Gumbell distribution, results\n=================================\n\nGenerate the exercise results on the Gumbell distribution\n\n"
      ]
    },
    {
      "cell_type": "code",
      "execution_count": null,
      "metadata": {
        "collapsed": false
      },
      "outputs": [],
      "source": [
        "import numpy as np\nimport matplotlib.pyplot as plt\n\nyears_nb = 21\nwspeeds = np.load('sprog-windspeeds.npy')\nmax_speeds = np.array([arr.max() for arr in np.array_split(wspeeds, years_nb)])\n\nplt.figure()\nplt.bar(np.arange(years_nb) + 1, max_speeds)\nplt.axis('tight')\nplt.xlabel('Year')\nplt.ylabel('Annual wind speed maxima [$m/s$]')"
      ]
    }
  ],
  "metadata": {
    "kernelspec": {
      "display_name": "Python 3",
      "language": "python",
      "name": "python3"
    },
    "language_info": {
      "codemirror_mode": {
        "name": "ipython",
        "version": 3
      },
      "file_extension": ".py",
      "mimetype": "text/x-python",
      "name": "python",
      "nbconvert_exporter": "python",
      "pygments_lexer": "ipython3",
      "version": "3.6.13"
    }
  },
  "nbformat": 4,
  "nbformat_minor": 0
}