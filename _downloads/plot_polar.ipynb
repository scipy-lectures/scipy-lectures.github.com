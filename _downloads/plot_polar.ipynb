{
  "cells": [
    {
      "cell_type": "code",
      "execution_count": null,
      "metadata": {
        "collapsed": false
      },
      "outputs": [],
      "source": [
        "%matplotlib inline"
      ]
    },
    {
      "cell_type": "markdown",
      "metadata": {},
      "source": [
        "\nPlotting in polar coordinnates\n===============================\n\nA simple example showing how to plot in polar coordinnates with\nmatplotlib.\n\n"
      ]
    },
    {
      "cell_type": "code",
      "execution_count": null,
      "metadata": {
        "collapsed": false
      },
      "outputs": [],
      "source": [
        "import numpy as np\nimport matplotlib.pyplot as plt\n\nax = plt.axes([0.025, 0.025, 0.95, 0.95], polar=True)\n\nN = 20\ntheta = np.arange(0.0, 2 * np.pi, 2 * np.pi / N)\nradii = 10 * np.random.rand(N)\nwidth = np.pi / 4 * np.random.rand(N)\nbars = plt.bar(theta, radii, width=width, bottom=0.0)\n\nfor r,bar in zip(radii, bars):\n    bar.set_facecolor(plt.cm.jet(r/10.))\n    bar.set_alpha(0.5)\n\nax.set_xticklabels([])\nax.set_yticklabels([])\nplt.show()"
      ]
    }
  ],
  "metadata": {
    "kernelspec": {
      "display_name": "Python 3",
      "language": "python",
      "name": "python3"
    },
    "language_info": {
      "codemirror_mode": {
        "name": "ipython",
        "version": 3
      },
      "file_extension": ".py",
      "mimetype": "text/x-python",
      "name": "python",
      "nbconvert_exporter": "python",
      "pygments_lexer": "ipython3",
      "version": "3.6.13"
    }
  },
  "nbformat": 4,
  "nbformat_minor": 0
}