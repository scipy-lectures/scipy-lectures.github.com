{
  "cells": [
    {
      "cell_type": "code",
      "execution_count": null,
      "metadata": {
        "collapsed": false
      },
      "outputs": [],
      "source": [
        "%matplotlib inline"
      ]
    },
    {
      "cell_type": "markdown",
      "metadata": {},
      "source": [
        "\nRadial mean\n============\n\nThis example shows how to do a radial mean with scikit-image.\n\n"
      ]
    },
    {
      "cell_type": "code",
      "execution_count": null,
      "metadata": {
        "collapsed": false
      },
      "outputs": [],
      "source": [
        "import numpy as np\nimport scipy\nfrom scipy import ndimage\nimport matplotlib.pyplot as plt\n\nf = scipy.misc.face(gray=True)\nsx, sy = f.shape\nX, Y = np.ogrid[0:sx, 0:sy]\n\n\nr = np.hypot(X - sx/2, Y - sy/2)\n\nrbin = (20* r/r.max()).astype(np.int)\nradial_mean = ndimage.mean(f, labels=rbin, index=np.arange(1, rbin.max() +1))\n\nplt.figure(figsize=(5, 5))\nplt.axes([0, 0, 1, 1])\nplt.imshow(rbin, cmap=plt.cm.nipy_spectral)\nplt.axis('off')\n\nplt.show()"
      ]
    }
  ],
  "metadata": {
    "kernelspec": {
      "display_name": "Python 3",
      "language": "python",
      "name": "python3"
    },
    "language_info": {
      "codemirror_mode": {
        "name": "ipython",
        "version": 3
      },
      "file_extension": ".py",
      "mimetype": "text/x-python",
      "name": "python",
      "nbconvert_exporter": "python",
      "pygments_lexer": "ipython3",
      "version": "3.6.13"
    }
  },
  "nbformat": 4,
  "nbformat_minor": 0
}