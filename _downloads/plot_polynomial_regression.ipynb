{
  "cells": [
    {
      "cell_type": "code",
      "execution_count": null,
      "metadata": {
        "collapsed": false
      },
      "outputs": [],
      "source": [
        "%matplotlib inline"
      ]
    },
    {
      "cell_type": "markdown",
      "metadata": {},
      "source": [
        "\nPlot fitting a 9th order polynomial\n====================================\n\nFits data generated from a 9th order polynomial with model of 4th order\nand 9th order polynomials, to demonstrate that often simpler models are\nto be prefered\n\n"
      ]
    },
    {
      "cell_type": "code",
      "execution_count": null,
      "metadata": {
        "collapsed": false
      },
      "outputs": [],
      "source": [
        "import numpy as np\nfrom matplotlib import pyplot as plt\nfrom matplotlib.colors import ListedColormap\n\nfrom sklearn import linear_model\n\n# Create color maps for 3-class classification problem, as with iris\ncmap_light = ListedColormap(['#FFAAAA', '#AAFFAA', '#AAAAFF'])\ncmap_bold = ListedColormap(['#FF0000', '#00FF00', '#0000FF'])\n\n\nrng = np.random.RandomState(0)\nx = 2*rng.rand(100) - 1\n\nf = lambda t: 1.2 * t**2 + .1 * t**3 - .4 * t **5 - .5 * t ** 9\ny = f(x) + .4 * rng.normal(size=100)\n\nx_test = np.linspace(-1, 1, 100)"
      ]
    },
    {
      "cell_type": "markdown",
      "metadata": {},
      "source": [
        "The data\n\n"
      ]
    },
    {
      "cell_type": "code",
      "execution_count": null,
      "metadata": {
        "collapsed": false
      },
      "outputs": [],
      "source": [
        "plt.figure(figsize=(6, 4))\nplt.scatter(x, y, s=4)"
      ]
    },
    {
      "cell_type": "markdown",
      "metadata": {},
      "source": [
        "Fitting 4th and 9th order polynomials\n\nFor this we need to engineer features: the n_th powers of x:\n\n"
      ]
    },
    {
      "cell_type": "code",
      "execution_count": null,
      "metadata": {
        "collapsed": false
      },
      "outputs": [],
      "source": [
        "plt.figure(figsize=(6, 4))\nplt.scatter(x, y, s=4)\n\nX = np.array([x**i for i in range(5)]).T\nX_test = np.array([x_test**i for i in range(5)]).T\nregr = linear_model.LinearRegression()\nregr.fit(X, y)\nplt.plot(x_test, regr.predict(X_test), label='4th order')\n\nX = np.array([x**i for i in range(10)]).T\nX_test = np.array([x_test**i for i in range(10)]).T\nregr = linear_model.LinearRegression()\nregr.fit(X, y)\nplt.plot(x_test, regr.predict(X_test), label='9th order')\n\nplt.legend(loc='best')\nplt.axis('tight')\nplt.title('Fitting a 4th and a 9th order polynomial')"
      ]
    },
    {
      "cell_type": "markdown",
      "metadata": {},
      "source": [
        "Ground truth\n\n"
      ]
    },
    {
      "cell_type": "code",
      "execution_count": null,
      "metadata": {
        "collapsed": false
      },
      "outputs": [],
      "source": [
        "plt.figure(figsize=(6, 4))\nplt.scatter(x, y, s=4)\nplt.plot(x_test, f(x_test), label=\"truth\")\nplt.axis('tight')\nplt.title('Ground truth (9th order polynomial)')\n\nplt.show()"
      ]
    }
  ],
  "metadata": {
    "kernelspec": {
      "display_name": "Python 3",
      "language": "python",
      "name": "python3"
    },
    "language_info": {
      "codemirror_mode": {
        "name": "ipython",
        "version": 3
      },
      "file_extension": ".py",
      "mimetype": "text/x-python",
      "name": "python",
      "nbconvert_exporter": "python",
      "pygments_lexer": "ipython3",
      "version": "3.6.13"
    }
  },
  "nbformat": 4,
  "nbformat_minor": 0
}