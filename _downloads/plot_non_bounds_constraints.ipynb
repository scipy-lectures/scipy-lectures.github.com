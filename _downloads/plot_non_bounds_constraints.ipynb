{
  "cells": [
    {
      "cell_type": "code",
      "execution_count": null,
      "metadata": {
        "collapsed": false
      },
      "outputs": [],
      "source": [
        "%matplotlib inline"
      ]
    },
    {
      "cell_type": "markdown",
      "metadata": {},
      "source": [
        "\nOptimization with constraints\n================================\n\nAn example showing how to do optimization with general constraints using\nSLSQP and cobyla.\n\n"
      ]
    },
    {
      "cell_type": "code",
      "execution_count": null,
      "metadata": {
        "collapsed": false
      },
      "outputs": [],
      "source": [
        "import numpy as np\nimport matplotlib.pyplot as plt\nfrom scipy import optimize\n\nx, y = np.mgrid[-2.03:4.2:.04, -1.6:3.2:.04]\nx = x.T\ny = y.T\n\nplt.figure(1, figsize=(3, 2.5))\nplt.clf()\nplt.axes([0, 0, 1, 1])\n\ncontours = plt.contour(np.sqrt((x - 3)**2 + (y - 2)**2),\n                    extent=[-2.03, 4.2, -1.6, 3.2],\n                    cmap=plt.cm.gnuplot)\nplt.clabel(contours,\n        inline=1,\n        fmt='%1.1f',\n        fontsize=14)\nplt.plot([-1.5,    0,  1.5,    0, -1.5],\n        [   0,  1.5,    0, -1.5,    0], 'k', linewidth=2)\nplt.fill_between([ -1.5,    0,  1.5],\n                [    0, -1.5,    0],\n                [    0,  1.5,    0],\n                color='.8')\nplt.axvline(0, color='k')\nplt.axhline(0, color='k')\n\nplt.text(-.9, 2.8, '$x_2$', size=20)\nplt.text(3.6, -.6, '$x_1$', size=20)\nplt.axis('tight')\nplt.axis('off')\n\n# And now plot the optimization path\naccumulator = list()\n\ndef f(x):\n    # Store the list of function calls\n    accumulator.append(x)\n    return np.sqrt((x[0] - 3)**2 + (x[1] - 2)**2)\n\n\ndef constraint(x):\n    return np.atleast_1d(1.5 - np.sum(np.abs(x)))\n\noptimize.minimize(f, np.array([0, 0]), method=\"SLSQP\",\n                     constraints={\"fun\": constraint, \"type\": \"ineq\"})\n\naccumulated = np.array(accumulator)\nplt.plot(accumulated[:, 0], accumulated[:, 1])\n\nplt.show()"
      ]
    }
  ],
  "metadata": {
    "kernelspec": {
      "display_name": "Python 3",
      "language": "python",
      "name": "python3"
    },
    "language_info": {
      "codemirror_mode": {
        "name": "ipython",
        "version": 3
      },
      "file_extension": ".py",
      "mimetype": "text/x-python",
      "name": "python",
      "nbconvert_exporter": "python",
      "pygments_lexer": "ipython3",
      "version": "3.6.13"
    }
  },
  "nbformat": 4,
  "nbformat_minor": 0
}