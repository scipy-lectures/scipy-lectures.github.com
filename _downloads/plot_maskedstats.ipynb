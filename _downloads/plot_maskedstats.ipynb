{
  "cells": [
    {
      "cell_type": "code",
      "execution_count": null,
      "metadata": {
        "collapsed": false
      },
      "outputs": [],
      "source": [
        "%matplotlib inline"
      ]
    },
    {
      "cell_type": "markdown",
      "metadata": {},
      "source": [
        "\nExample: Masked statistics\n==========================\n\nPlot a masked statistics\n\n\n"
      ]
    },
    {
      "cell_type": "code",
      "execution_count": null,
      "metadata": {
        "collapsed": false
      },
      "outputs": [],
      "source": [
        "import numpy as np\nimport matplotlib.pyplot as plt\n\ndata = np.loadtxt('../../../../data/populations.txt')\npopulations = np.ma.masked_array(data[:,1:])\nyear = data[:, 0]\n\nbad_years = (((year >= 1903) & (year <= 1910))\n            | ((year >= 1917) & (year <= 1918)))\npopulations[bad_years, 0] = np.ma.masked\npopulations[bad_years, 1] = np.ma.masked\n\nplt.plot(year, populations, 'o-') \nplt.show()"
      ]
    }
  ],
  "metadata": {
    "kernelspec": {
      "display_name": "Python 3",
      "language": "python",
      "name": "python3"
    },
    "language_info": {
      "codemirror_mode": {
        "name": "ipython",
        "version": 3
      },
      "file_extension": ".py",
      "mimetype": "text/x-python",
      "name": "python",
      "nbconvert_exporter": "python",
      "pygments_lexer": "ipython3",
      "version": "3.6.13"
    }
  },
  "nbformat": 4,
  "nbformat_minor": 0
}