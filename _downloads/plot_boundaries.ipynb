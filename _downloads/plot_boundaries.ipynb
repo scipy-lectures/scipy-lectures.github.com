{
  "cells": [
    {
      "cell_type": "code",
      "execution_count": null,
      "metadata": {
        "collapsed": false
      },
      "outputs": [],
      "source": [
        "%matplotlib inline"
      ]
    },
    {
      "cell_type": "markdown",
      "metadata": {},
      "source": [
        "\nSegmentation contours\n=====================\n\nVisualize segmentation contours on original grayscale image.\n\n"
      ]
    },
    {
      "cell_type": "code",
      "execution_count": null,
      "metadata": {
        "collapsed": false
      },
      "outputs": [],
      "source": [
        "from skimage import data, segmentation\nfrom skimage import filters\nimport matplotlib.pyplot as plt\nimport numpy as np\n\ncoins = data.coins()\nmask = coins > filters.threshold_otsu(coins)\nclean_border = segmentation.clear_border(mask).astype(np.int)\n\ncoins_edges = segmentation.mark_boundaries(coins, clean_border)\n\nplt.figure(figsize=(8, 3.5))\nplt.subplot(121)\nplt.imshow(clean_border, cmap='gray')\nplt.axis('off')\nplt.subplot(122)\nplt.imshow(coins_edges)\nplt.axis('off')\n\nplt.tight_layout()\nplt.show()"
      ]
    }
  ],
  "metadata": {
    "kernelspec": {
      "display_name": "Python 3",
      "language": "python",
      "name": "python3"
    },
    "language_info": {
      "codemirror_mode": {
        "name": "ipython",
        "version": 3
      },
      "file_extension": ".py",
      "mimetype": "text/x-python",
      "name": "python",
      "nbconvert_exporter": "python",
      "pygments_lexer": "ipython3",
      "version": "3.6.13"
    }
  },
  "nbformat": 4,
  "nbformat_minor": 0
}