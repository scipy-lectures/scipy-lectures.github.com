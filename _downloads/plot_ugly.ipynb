{
  "cells": [
    {
      "cell_type": "code",
      "execution_count": null,
      "metadata": {
        "collapsed": false
      },
      "outputs": [],
      "source": [
        "%matplotlib inline"
      ]
    },
    {
      "cell_type": "markdown",
      "metadata": {},
      "source": [
        "\nA example of plotting not quite right\n======================================\n\nAn \"ugly\" example of plotting.\n\n"
      ]
    },
    {
      "cell_type": "code",
      "execution_count": null,
      "metadata": {
        "collapsed": false
      },
      "outputs": [],
      "source": [
        "import numpy as np\nimport matplotlib\nmatplotlib.use('Agg')\nimport matplotlib.pyplot as plt\n\nmatplotlib.rc('grid', color='black', linestyle='-', linewidth=1)\n\nfig = plt.figure(figsize=(5,4),dpi=72)\naxes = fig.add_axes([0.01, 0.01, .98, 0.98], facecolor='.75')\nX = np.linspace(0, 2, 40)\nY = np.sin(2 * np.pi * X)\nplt.plot(X, Y, lw=.05, c='b', antialiased=False)\n\nplt.xticks([])\nplt.yticks(np.arange(-1., 1., 0.2))\nplt.grid()\nax = plt.gca()\n\nplt.show()"
      ]
    }
  ],
  "metadata": {
    "kernelspec": {
      "display_name": "Python 3",
      "language": "python",
      "name": "python3"
    },
    "language_info": {
      "codemirror_mode": {
        "name": "ipython",
        "version": 3
      },
      "file_extension": ".py",
      "mimetype": "text/x-python",
      "name": "python",
      "nbconvert_exporter": "python",
      "pygments_lexer": "ipython3",
      "version": "3.6.13"
    }
  },
  "nbformat": 4,
  "nbformat_minor": 0
}