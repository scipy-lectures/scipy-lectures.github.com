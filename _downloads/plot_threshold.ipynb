{
  "cells": [
    {
      "cell_type": "code",
      "execution_count": null,
      "metadata": {
        "collapsed": false
      },
      "outputs": [],
      "source": [
        "%matplotlib inline"
      ]
    },
    {
      "cell_type": "markdown",
      "metadata": {},
      "source": [
        "\nOtsu thresholding\n==================\n\nThis example illustrates automatic Otsu thresholding.\n\n"
      ]
    },
    {
      "cell_type": "code",
      "execution_count": null,
      "metadata": {
        "collapsed": false
      },
      "outputs": [],
      "source": [
        "import matplotlib.pyplot as plt\nfrom skimage import data\nfrom skimage import filters\nfrom skimage import exposure\n\ncamera = data.camera()\nval = filters.threshold_otsu(camera)\n\nhist, bins_center = exposure.histogram(camera)\n\nplt.figure(figsize=(9, 4))\nplt.subplot(131)\nplt.imshow(camera, cmap='gray', interpolation='nearest')\nplt.axis('off')\nplt.subplot(132)\nplt.imshow(camera < val, cmap='gray', interpolation='nearest')\nplt.axis('off')\nplt.subplot(133)\nplt.plot(bins_center, hist, lw=2)\nplt.axvline(val, color='k', ls='--')\n\nplt.tight_layout()\nplt.show()"
      ]
    }
  ],
  "metadata": {
    "kernelspec": {
      "display_name": "Python 3",
      "language": "python",
      "name": "python3"
    },
    "language_info": {
      "codemirror_mode": {
        "name": "ipython",
        "version": 3
      },
      "file_extension": ".py",
      "mimetype": "text/x-python",
      "name": "python",
      "nbconvert_exporter": "python",
      "pygments_lexer": "ipython3",
      "version": "3.6.13"
    }
  },
  "nbformat": 4,
  "nbformat_minor": 0
}