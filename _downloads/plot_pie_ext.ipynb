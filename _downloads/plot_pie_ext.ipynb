{
  "cells": [
    {
      "cell_type": "code",
      "execution_count": null,
      "metadata": {
        "collapsed": false
      },
      "outputs": [],
      "source": [
        "%matplotlib inline"
      ]
    },
    {
      "cell_type": "markdown",
      "metadata": {},
      "source": [
        "\nPie chart vignette\n===================\n\nDemo pie chart with matplotlib and style the figure.\n\n"
      ]
    },
    {
      "cell_type": "code",
      "execution_count": null,
      "metadata": {
        "collapsed": false
      },
      "outputs": [],
      "source": [
        "import numpy as np\nimport matplotlib.pyplot as plt\n\nn = 20\nX = np.ones(n)\nX[-1] *= 2\nplt.pie(X, explode=X*.05, colors = ['%f' % (i/float(n)) for i in range(n)])\n\nfig = plt.gcf()\nw, h = fig.get_figwidth(), fig.get_figheight()\nr = h / float(w)\n\nplt.xlim(-1.5, 1.5)\nplt.ylim(-1.5 * r, 1.5 * r)\nplt.xticks([])\nplt.yticks([])\n\n\n# Add a title and a box around it\nfrom matplotlib.patches import FancyBboxPatch\nax = plt.gca()\nax.add_patch(FancyBboxPatch((-0.05, .87),\n                            width=.66, height=.165, clip_on=False,\n                            boxstyle=\"square,pad=0\", zorder=3,\n                            facecolor='white', alpha=1.0,\n                            transform=plt.gca().transAxes))\n\nplt.text(-0.05, 1.02, \" Pie Chart:           plt.pie(...)\\n\",\n        horizontalalignment='left',\n        verticalalignment='top',\n        size='xx-large',\n        transform=plt.gca().transAxes)\n\nplt.text(-0.05, 1.01, \"\\n\\n   Make a pie chart of an array \",\n        horizontalalignment='left',\n        verticalalignment='top',\n        size='large',\n        transform=plt.gca().transAxes)\n\nplt.show()"
      ]
    }
  ],
  "metadata": {
    "kernelspec": {
      "display_name": "Python 3",
      "language": "python",
      "name": "python3"
    },
    "language_info": {
      "codemirror_mode": {
        "name": "ipython",
        "version": 3
      },
      "file_extension": ".py",
      "mimetype": "text/x-python",
      "name": "python",
      "nbconvert_exporter": "python",
      "pygments_lexer": "ipython3",
      "version": "3.6.13"
    }
  },
  "nbformat": 4,
  "nbformat_minor": 0
}