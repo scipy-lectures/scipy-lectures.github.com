{
  "cells": [
    {
      "cell_type": "code",
      "execution_count": null,
      "metadata": {
        "collapsed": false
      },
      "outputs": [],
      "source": [
        "%matplotlib inline"
      ]
    },
    {
      "cell_type": "markdown",
      "metadata": {},
      "source": [
        "\nFinding a minimum in a flat neighborhood\n=========================================\n\nAn excercise of finding minimum. This excercise is hard because the\nfunction is very flat around the minimum (all its derivatives are zero).\nThus gradient information is unreliable.\n\nThe function admits a minimum in [0, 0]. The challenge is to get within\n1e-7 of this minimum, starting at x0 = [1, 1].\n\nThe solution that we adopt here is to give up on using gradient or\ninformation based on local differences, and to rely on the Powell\nalgorithm. With 162 function evaluations, we get to 1e-8 of the\nsolution.\n\n"
      ]
    },
    {
      "cell_type": "code",
      "execution_count": null,
      "metadata": {
        "collapsed": false
      },
      "outputs": [],
      "source": [
        "import numpy as np\nfrom scipy import optimize\nimport matplotlib.pyplot as plt\n\ndef f(x):\n    return np.exp(-1/(.01*x[0]**2 + x[1]**2))\n\n# A well-conditionned version of f:\ndef g(x):\n    return f([10*x[0], x[1]])\n\n# The gradient of g. We won't use it here for the optimization.\ndef g_prime(x):\n    r = np.sqrt(x[0]**2 + x[1]**2)\n    return 2/r**3*g(x)*x/r\n\nresult = optimize.minimize(g, [1, 1], method=\"Powell\", tol=1e-10)\nx_min = result.x"
      ]
    },
    {
      "cell_type": "markdown",
      "metadata": {},
      "source": [
        "Some pretty plotting\n\n"
      ]
    },
    {
      "cell_type": "code",
      "execution_count": null,
      "metadata": {
        "collapsed": false
      },
      "outputs": [],
      "source": [
        "plt.figure(0)\nplt.clf()\nt = np.linspace(-1.1, 1.1, 100)\nplt.plot(t, f([0, t]))\n\nplt.figure(1)\nplt.clf()\nX, Y = np.mgrid[-1.5:1.5:100j, -1.1:1.1:100j]\nplt.imshow(f([X, Y]).T, cmap=plt.cm.gray_r, extent=[-1.5, 1.5, -1.1, 1.1],\n          origin='lower')\nplt.contour(X, Y, f([X, Y]), cmap=plt.cm.gnuplot)\n\n# Plot the gradient\ndX, dY = g_prime([.1*X[::5, ::5], Y[::5, ::5]])\n# Adjust for our preconditioning\ndX *= .1\nplt.quiver(X[::5, ::5], Y[::5, ::5], dX, dY, color='.5')\n\n# Plot our solution\nplt.plot(x_min[0], x_min[1], 'r+', markersize=15)\n\nplt.show()"
      ]
    }
  ],
  "metadata": {
    "kernelspec": {
      "display_name": "Python 3",
      "language": "python",
      "name": "python3"
    },
    "language_info": {
      "codemirror_mode": {
        "name": "ipython",
        "version": 3
      },
      "file_extension": ".py",
      "mimetype": "text/x-python",
      "name": "python",
      "nbconvert_exporter": "python",
      "pygments_lexer": "ipython3",
      "version": "3.6.13"
    }
  },
  "nbformat": 4,
  "nbformat_minor": 0
}