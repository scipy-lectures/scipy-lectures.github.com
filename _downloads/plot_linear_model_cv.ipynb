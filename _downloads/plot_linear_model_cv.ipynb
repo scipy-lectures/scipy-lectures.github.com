{
  "cells": [
    {
      "cell_type": "code",
      "execution_count": null,
      "metadata": {
        "collapsed": false
      },
      "outputs": [],
      "source": [
        "%matplotlib inline"
      ]
    },
    {
      "cell_type": "markdown",
      "metadata": {},
      "source": [
        "\n# Use the RidgeCV and LassoCV to set the regularization parameter\n\n\n\n\n"
      ]
    },
    {
      "cell_type": "markdown",
      "metadata": {},
      "source": [
        "Load the diabetes dataset\n\n"
      ]
    },
    {
      "cell_type": "code",
      "execution_count": null,
      "metadata": {
        "collapsed": false
      },
      "outputs": [],
      "source": [
        "from sklearn.datasets import load_diabetes\ndata = load_diabetes()\nX, y = data.data, data.target\nprint(X.shape)"
      ]
    },
    {
      "cell_type": "markdown",
      "metadata": {},
      "source": [
        "Compute the cross-validation score with the default hyper-parameters\n\n"
      ]
    },
    {
      "cell_type": "code",
      "execution_count": null,
      "metadata": {
        "collapsed": false
      },
      "outputs": [],
      "source": [
        "from sklearn.model_selection import cross_val_score\nfrom sklearn.linear_model import Ridge, Lasso\n\nfor Model in [Ridge, Lasso]:\n    model = Model()\n    print('%s: %s' % (Model.__name__,\n                      cross_val_score(model, X, y).mean()))"
      ]
    },
    {
      "cell_type": "markdown",
      "metadata": {},
      "source": [
        "We compute the cross-validation score as a function of alpha, the\nstrength of the regularization for Lasso and Ridge\n\n"
      ]
    },
    {
      "cell_type": "code",
      "execution_count": null,
      "metadata": {
        "collapsed": false
      },
      "outputs": [],
      "source": [
        "import numpy as np\nfrom matplotlib import pyplot as plt\n\nalphas = np.logspace(-3, -1, 30)\n\nplt.figure(figsize=(5, 3))\n\nfor Model in [Lasso, Ridge]:\n    scores = [cross_val_score(Model(alpha), X, y, cv=3).mean()\n            for alpha in alphas]\n    plt.plot(alphas, scores, label=Model.__name__)\n\nplt.legend(loc='lower left')\nplt.xlabel('alpha')\nplt.ylabel('cross validation score')\nplt.tight_layout()\nplt.show()"
      ]
    }
  ],
  "metadata": {
    "kernelspec": {
      "display_name": "Python 3",
      "language": "python",
      "name": "python3"
    },
    "language_info": {
      "codemirror_mode": {
        "name": "ipython",
        "version": 3
      },
      "file_extension": ".py",
      "mimetype": "text/x-python",
      "name": "python",
      "nbconvert_exporter": "python",
      "pygments_lexer": "ipython3",
      "version": "3.6.13"
    }
  },
  "nbformat": 4,
  "nbformat_minor": 0
}