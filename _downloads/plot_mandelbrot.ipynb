{
  "cells": [
    {
      "cell_type": "code",
      "execution_count": null,
      "metadata": {
        "collapsed": false
      },
      "outputs": [],
      "source": [
        "%matplotlib inline"
      ]
    },
    {
      "cell_type": "markdown",
      "metadata": {},
      "source": [
        "\nMandelbrot set\n==============\n\nCompute the Mandelbrot fractal and plot it\n\n\n"
      ]
    },
    {
      "cell_type": "code",
      "execution_count": null,
      "metadata": {
        "collapsed": false
      },
      "outputs": [],
      "source": [
        "import numpy as np\nimport matplotlib.pyplot as plt\nfrom numpy import newaxis\n\ndef compute_mandelbrot(N_max, some_threshold, nx, ny):\n    # A grid of c-values\n    x = np.linspace(-2, 1, nx)\n    y = np.linspace(-1.5, 1.5, ny)\n\n    c = x[:,newaxis] + 1j*y[newaxis,:]\n\n    # Mandelbrot iteration\n\n    z = c\n\n    # The code below overflows in many regions of the x-y grid, suppress\n    # warnings temporarily\n    with np.warnings.catch_warnings():\n        np.warnings.simplefilter(\"ignore\")\n        for j in range(N_max):\n            z = z**2 + c\n        mandelbrot_set = (abs(z) < some_threshold)\n\n    return mandelbrot_set\n\nmandelbrot_set = compute_mandelbrot(50, 50., 601, 401)\n\nplt.imshow(mandelbrot_set.T, extent=[-2, 1, -1.5, 1.5])\nplt.gray()\nplt.show()"
      ]
    }
  ],
  "metadata": {
    "kernelspec": {
      "display_name": "Python 3",
      "language": "python",
      "name": "python3"
    },
    "language_info": {
      "codemirror_mode": {
        "name": "ipython",
        "version": 3
      },
      "file_extension": ".py",
      "mimetype": "text/x-python",
      "name": "python",
      "nbconvert_exporter": "python",
      "pygments_lexer": "ipython3",
      "version": "3.6.13"
    }
  },
  "nbformat": 4,
  "nbformat_minor": 0
}