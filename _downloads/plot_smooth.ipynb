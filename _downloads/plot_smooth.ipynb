{
  "cells": [
    {
      "cell_type": "code",
      "execution_count": null,
      "metadata": {
        "collapsed": false
      },
      "outputs": [],
      "source": [
        "%matplotlib inline"
      ]
    },
    {
      "cell_type": "markdown",
      "metadata": {},
      "source": [
        "\nSmooth vs non-smooth\n=====================\n\nDraws a figure to explain smooth versus non smooth optimization.\n\n"
      ]
    },
    {
      "cell_type": "code",
      "execution_count": null,
      "metadata": {
        "collapsed": false
      },
      "outputs": [],
      "source": [
        "import numpy as np\nimport matplotlib.pyplot as plt\n\nx = np.linspace(-1.5, 1.5, 101)\n\n# A smooth function\nplt.figure(1, figsize=(3, 2.5))\nplt.clf()\n\nplt.plot(x, np.sqrt(.2 + x**2), linewidth=2)\nplt.text(-1, 0, '$f$', size=20)\n\nplt.ylim(ymin=-.2)\nplt.axis('off')\nplt.tight_layout()\n\n# A non-smooth function\nplt.figure(2, figsize=(3, 2.5))\nplt.clf()\nplt.plot(x, np.abs(x), linewidth=2)\nplt.text(-1, 0, '$f$', size=20)\n\nplt.ylim(ymin=-.2)\nplt.axis('off')\nplt.tight_layout()\nplt.show()"
      ]
    }
  ],
  "metadata": {
    "kernelspec": {
      "display_name": "Python 3",
      "language": "python",
      "name": "python3"
    },
    "language_info": {
      "codemirror_mode": {
        "name": "ipython",
        "version": 3
      },
      "file_extension": ".py",
      "mimetype": "text/x-python",
      "name": "python",
      "nbconvert_exporter": "python",
      "pygments_lexer": "ipython3",
      "version": "3.6.13"
    }
  },
  "nbformat": 4,
  "nbformat_minor": 0
}