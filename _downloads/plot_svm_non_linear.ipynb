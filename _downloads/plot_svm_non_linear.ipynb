{
  "cells": [
    {
      "cell_type": "code",
      "execution_count": null,
      "metadata": {
        "collapsed": false
      },
      "outputs": [],
      "source": [
        "%matplotlib inline"
      ]
    },
    {
      "cell_type": "markdown",
      "metadata": {},
      "source": [
        "\nExample of linear and non-linear models\n========================================\n\nThis is an example plot from the tutorial which accompanies an explanation\nof the support vector machine GUI.\n\n"
      ]
    },
    {
      "cell_type": "code",
      "execution_count": null,
      "metadata": {
        "collapsed": false
      },
      "outputs": [],
      "source": [
        "import numpy as np\nfrom matplotlib import pyplot as plt\n\nfrom sklearn import svm"
      ]
    },
    {
      "cell_type": "markdown",
      "metadata": {},
      "source": [
        "data that is linearly separable\n\n"
      ]
    },
    {
      "cell_type": "code",
      "execution_count": null,
      "metadata": {
        "collapsed": false
      },
      "outputs": [],
      "source": [
        "def linear_model(rseed=42, n_samples=30):\n    \" Generate data according to a linear model\"\n    np.random.seed(rseed)\n\n    data = np.random.normal(0, 10, (n_samples, 2))\n    data[:n_samples // 2] -= 15\n    data[n_samples // 2:] += 15\n\n    labels = np.ones(n_samples)\n    labels[:n_samples // 2] = -1\n\n    return data, labels\n\n\nX, y = linear_model()\nclf = svm.SVC(kernel='linear')\nclf.fit(X, y)\n\nplt.figure(figsize=(6, 4))\nax = plt.subplot(111, xticks=[], yticks=[])\nax.scatter(X[:, 0], X[:, 1], c=y, cmap=plt.cm.bone)\n\nax.scatter(clf.support_vectors_[:, 0],\n            clf.support_vectors_[:, 1],\n            s=80, edgecolors=\"k\", facecolors=\"none\")\n\ndelta = 1\ny_min, y_max = -50, 50\nx_min, x_max = -50, 50\nx = np.arange(x_min, x_max + delta, delta)\ny = np.arange(y_min, y_max + delta, delta)\nX1, X2 = np.meshgrid(x, y)\nZ = clf.decision_function(np.c_[X1.ravel(), X2.ravel()])\nZ = Z.reshape(X1.shape)\n\nax.contour(X1, X2, Z, [-1.0, 0.0, 1.0], colors='k',\n           linestyles=['dashed', 'solid', 'dashed'])"
      ]
    },
    {
      "cell_type": "markdown",
      "metadata": {},
      "source": [
        "data with a non-linear separation\n\n"
      ]
    },
    {
      "cell_type": "code",
      "execution_count": null,
      "metadata": {
        "collapsed": false
      },
      "outputs": [],
      "source": [
        "def nonlinear_model(rseed=42, n_samples=30):\n    radius = 40 * np.random.random(n_samples)\n    far_pts = radius > 20\n    radius[far_pts] *= 1.2\n    radius[~far_pts] *= 1.1\n\n    theta = np.random.random(n_samples) * np.pi * 2\n\n    data = np.empty((n_samples, 2))\n    data[:, 0] = radius * np.cos(theta)\n    data[:, 1] = radius * np.sin(theta)\n\n    labels = np.ones(n_samples)\n    labels[far_pts] = -1\n\n    return data, labels\n\n\nX, y = nonlinear_model()\nclf = svm.SVC(kernel='rbf', gamma=0.001, coef0=0, degree=3)\nclf.fit(X, y)\n\nplt.figure(figsize=(6, 4))\nax = plt.subplot(1, 1, 1, xticks=[], yticks=[])\nax.scatter(X[:, 0], X[:, 1], c=y, cmap=plt.cm.bone, zorder=2)\n\nax.scatter(clf.support_vectors_[:, 0], clf.support_vectors_[:, 1],\n           s=80, edgecolors=\"k\", facecolors=\"none\")\n\ndelta = 1\ny_min, y_max = -50, 50\nx_min, x_max = -50, 50\nx = np.arange(x_min, x_max + delta, delta)\ny = np.arange(y_min, y_max + delta, delta)\nX1, X2 = np.meshgrid(x, y)\nZ = clf.decision_function(np.c_[X1.ravel(), X2.ravel()])\nZ = Z.reshape(X1.shape)\n\nax.contour(X1, X2, Z, [-1.0, 0.0, 1.0], colors='k',\n            linestyles=['dashed', 'solid', 'dashed'], zorder=1)\n\nplt.show()"
      ]
    }
  ],
  "metadata": {
    "kernelspec": {
      "display_name": "Python 3",
      "language": "python",
      "name": "python3"
    },
    "language_info": {
      "codemirror_mode": {
        "name": "ipython",
        "version": 3
      },
      "file_extension": ".py",
      "mimetype": "text/x-python",
      "name": "python",
      "nbconvert_exporter": "python",
      "pygments_lexer": "ipython3",
      "version": "3.6.13"
    }
  },
  "nbformat": 4,
  "nbformat_minor": 0
}