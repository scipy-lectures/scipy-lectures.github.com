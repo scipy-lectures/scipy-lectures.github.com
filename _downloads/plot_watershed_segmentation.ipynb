{
  "cells": [
    {
      "cell_type": "code",
      "execution_count": null,
      "metadata": {
        "collapsed": false
      },
      "outputs": [],
      "source": [
        "%matplotlib inline"
      ]
    },
    {
      "cell_type": "markdown",
      "metadata": {},
      "source": [
        "\nWatershed segmentation\n=======================\n\nThis example shows how to do segmentation with watershed.\n\n"
      ]
    },
    {
      "cell_type": "code",
      "execution_count": null,
      "metadata": {
        "collapsed": false
      },
      "outputs": [],
      "source": [
        "import numpy as np\nfrom skimage.morphology import watershed\nfrom skimage.feature import peak_local_max\nimport matplotlib.pyplot as plt\nfrom scipy import ndimage\n\n# Generate an initial image with two overlapping circles\nx, y = np.indices((80, 80))\nx1, y1, x2, y2 = 28, 28, 44, 52\nr1, r2 = 16, 20\nmask_circle1 = (x - x1) ** 2 + (y - y1) ** 2 < r1 ** 2\nmask_circle2 = (x - x2) ** 2 + (y - y2) ** 2 < r2 ** 2\nimage = np.logical_or(mask_circle1, mask_circle2)\n# Now we want to separate the two objects in image\n# Generate the markers as local maxima of the distance\n# to the background\ndistance = ndimage.distance_transform_edt(image)\nlocal_maxi = peak_local_max(\n    distance, indices=False, footprint=np.ones((3, 3)), labels=image)\nmarkers = ndimage.label(local_maxi)[0]\nlabels = watershed(-distance, markers, mask=image)\n\nplt.figure(figsize=(9, 3.5))\nplt.subplot(131)\nplt.imshow(image, cmap='gray', interpolation='nearest')\nplt.axis('off')\nplt.subplot(132)\nplt.imshow(-distance, interpolation='nearest')\nplt.axis('off')\nplt.subplot(133)\nplt.imshow(labels, cmap='nipy_spectral', interpolation='nearest')\nplt.axis('off')\n\nplt.subplots_adjust(hspace=0.01, wspace=0.01, top=1, bottom=0, left=0,\n                    right=1)\nplt.show()"
      ]
    }
  ],
  "metadata": {
    "kernelspec": {
      "display_name": "Python 3",
      "language": "python",
      "name": "python3"
    },
    "language_info": {
      "codemirror_mode": {
        "name": "ipython",
        "version": 3
      },
      "file_extension": ".py",
      "mimetype": "text/x-python",
      "name": "python",
      "nbconvert_exporter": "python",
      "pygments_lexer": "ipython3",
      "version": "3.6.13"
    }
  },
  "nbformat": 4,
  "nbformat_minor": 0
}