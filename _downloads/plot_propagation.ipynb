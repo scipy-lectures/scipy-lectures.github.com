{
  "cells": [
    {
      "cell_type": "code",
      "execution_count": null,
      "metadata": {
        "collapsed": false
      },
      "outputs": [],
      "source": [
        "%matplotlib inline"
      ]
    },
    {
      "cell_type": "markdown",
      "metadata": {},
      "source": [
        "\nOpening, erosion, and propagation\n==================================\n\nThis example shows simple operations of mathematical morphology.\n\n"
      ]
    },
    {
      "cell_type": "code",
      "execution_count": null,
      "metadata": {
        "collapsed": false
      },
      "outputs": [],
      "source": [
        "import numpy as np\nfrom scipy import ndimage\nimport matplotlib.pyplot as plt\n\nsquare = np.zeros((32, 32))\nsquare[10:-10, 10:-10] = 1\nnp.random.seed(2)\nx, y = (32*np.random.random((2, 20))).astype(np.int)\nsquare[x, y] = 1\n\nopen_square = ndimage.binary_opening(square)\n\neroded_square = ndimage.binary_erosion(square)\nreconstruction = ndimage.binary_propagation(eroded_square, mask=square)\n\nplt.figure(figsize=(9.5, 3))\nplt.subplot(131)\nplt.imshow(square, cmap=plt.cm.gray, interpolation='nearest')\nplt.axis('off')\nplt.subplot(132)\nplt.imshow(open_square, cmap=plt.cm.gray, interpolation='nearest')\nplt.axis('off')\nplt.subplot(133)\nplt.imshow(reconstruction, cmap=plt.cm.gray, interpolation='nearest')\nplt.axis('off')\n\nplt.subplots_adjust(wspace=0, hspace=0.02, top=0.99, bottom=0.01, left=0.01, right=0.99)\nplt.show()"
      ]
    }
  ],
  "metadata": {
    "kernelspec": {
      "display_name": "Python 3",
      "language": "python",
      "name": "python3"
    },
    "language_info": {
      "codemirror_mode": {
        "name": "ipython",
        "version": 3
      },
      "file_extension": ".py",
      "mimetype": "text/x-python",
      "name": "python",
      "nbconvert_exporter": "python",
      "pygments_lexer": "ipython3",
      "version": "3.6.13"
    }
  },
  "nbformat": 4,
  "nbformat_minor": 0
}