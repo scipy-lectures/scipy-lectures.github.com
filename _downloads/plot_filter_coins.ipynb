{
  "cells": [
    {
      "cell_type": "code",
      "execution_count": null,
      "metadata": {
        "collapsed": false
      },
      "outputs": [],
      "source": [
        "%matplotlib inline"
      ]
    },
    {
      "cell_type": "markdown",
      "metadata": {},
      "source": [
        "\nVarious denoising filters\n=========================\n\nThis example compares several denoising filters available in scikit-image:\na Gaussian filter, a median filter, and total variation denoising.\n\n"
      ]
    },
    {
      "cell_type": "code",
      "execution_count": null,
      "metadata": {
        "collapsed": false
      },
      "outputs": [],
      "source": [
        "import numpy as np\nimport matplotlib.pyplot as plt\nfrom skimage import data\nfrom skimage import filters\nfrom skimage import restoration\n\ncoins = data.coins()\ngaussian_filter_coins = filters.gaussian(coins, sigma=2)\nmed_filter_coins = filters.median(coins, np.ones((3, 3)))\ntv_filter_coins = restoration.denoise_tv_chambolle(coins, weight=0.1)\n\nplt.figure(figsize=(16, 4))\nplt.subplot(141)\nplt.imshow(coins[10:80, 300:370], cmap='gray', interpolation='nearest')\nplt.axis('off')\nplt.title('Image')\nplt.subplot(142)\nplt.imshow(gaussian_filter_coins[10:80, 300:370], cmap='gray',\n           interpolation='nearest')\nplt.axis('off')\nplt.title('Gaussian filter')\nplt.subplot(143)\nplt.imshow(med_filter_coins[10:80, 300:370], cmap='gray',\n           interpolation='nearest')\nplt.axis('off')\nplt.title('Median filter')\nplt.subplot(144)\nplt.imshow(tv_filter_coins[10:80, 300:370], cmap='gray',\n           interpolation='nearest')\nplt.axis('off')\nplt.title('TV filter')\nplt.show()"
      ]
    }
  ],
  "metadata": {
    "kernelspec": {
      "display_name": "Python 3",
      "language": "python",
      "name": "python3"
    },
    "language_info": {
      "codemirror_mode": {
        "name": "ipython",
        "version": 3
      },
      "file_extension": ".py",
      "mimetype": "text/x-python",
      "name": "python",
      "nbconvert_exporter": "python",
      "pygments_lexer": "ipython3",
      "version": "3.6.13"
    }
  },
  "nbformat": 4,
  "nbformat_minor": 0
}