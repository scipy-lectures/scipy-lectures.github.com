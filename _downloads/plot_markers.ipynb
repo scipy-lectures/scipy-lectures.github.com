{
  "cells": [
    {
      "cell_type": "code",
      "execution_count": null,
      "metadata": {
        "collapsed": false
      },
      "outputs": [],
      "source": [
        "%matplotlib inline"
      ]
    },
    {
      "cell_type": "markdown",
      "metadata": {},
      "source": [
        "\nMarkers\n=======\n\nShow the different markers of matplotlib.\n\n"
      ]
    },
    {
      "cell_type": "code",
      "execution_count": null,
      "metadata": {
        "collapsed": false
      },
      "outputs": [],
      "source": [
        "import numpy as np\nimport matplotlib.pyplot as plt\n\ndef marker(m, i):\n    X = i * .5 * np.ones(11)\n    Y = np.arange(11)\n\n    plt.plot(X, Y, lw=1, marker=m, ms=10, mfc=(.75, .75, 1, 1),\n            mec=(0, 0, 1, 1))\n    plt.text(.5 * i, 10.25, repr(m), rotation=90, fontsize=15, va='bottom')\n\nmarkers = [0, 1, 2, 3, 4, 5, 6, 7, 'o', 'h', '_', '1', '2', '3', '4',\n          '8', 'p', '^', 'v', '<', '>', '|', 'd', ',', '+', 's', '*',\n          '|', 'x', 'D', 'H', '.']\n\nn_markers = len(markers)\n\nsize = 20 * n_markers, 300\ndpi = 72.0\nfigsize= size[0] / float(dpi), size[1] / float(dpi)\nfig = plt.figure(figsize=figsize, dpi=dpi)\nplt.axes([0, 0.01, 1, .9], frameon=False)\n\nfor i, m in enumerate(markers):\n    marker(m, i)\n\nplt.xlim(-.2, .2 + .5 * n_markers)\nplt.xticks([])\nplt.yticks([])\n\nplt.show()"
      ]
    }
  ],
  "metadata": {
    "kernelspec": {
      "display_name": "Python 3",
      "language": "python",
      "name": "python3"
    },
    "language_info": {
      "codemirror_mode": {
        "name": "ipython",
        "version": 3
      },
      "file_extension": ".py",
      "mimetype": "text/x-python",
      "name": "python",
      "nbconvert_exporter": "python",
      "pygments_lexer": "ipython3",
      "version": "3.6.13"
    }
  },
  "nbformat": 4,
  "nbformat_minor": 0
}