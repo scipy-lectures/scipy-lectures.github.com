{
  "cells": [
    {
      "cell_type": "code",
      "execution_count": null,
      "metadata": {
        "collapsed": false
      },
      "outputs": [],
      "source": [
        "%matplotlib inline"
      ]
    },
    {
      "cell_type": "markdown",
      "metadata": {},
      "source": [
        "\nGreyscale dilation\n====================\n\nThis example illustrates greyscale mathematical morphology.\n\n"
      ]
    },
    {
      "cell_type": "code",
      "execution_count": null,
      "metadata": {
        "collapsed": false
      },
      "outputs": [],
      "source": [
        "import numpy as np\nfrom scipy import ndimage\nimport matplotlib.pyplot as plt\n\nim = np.zeros((64, 64))\nnp.random.seed(2)\nx, y = (63*np.random.random((2, 8))).astype(np.int)\nim[x, y] = np.arange(8)\n\nbigger_points = ndimage.grey_dilation(im, size=(5, 5), structure=np.ones((5, 5)))\n\nsquare = np.zeros((16, 16))\nsquare[4:-4, 4:-4] = 1\ndist = ndimage.distance_transform_bf(square)\ndilate_dist = ndimage.grey_dilation(dist, size=(3, 3), \\\n        structure=np.ones((3, 3)))\n\nplt.figure(figsize=(12.5, 3))\nplt.subplot(141)\nplt.imshow(im, interpolation='nearest', cmap=plt.cm.nipy_spectral)\nplt.axis('off')\nplt.subplot(142)\nplt.imshow(bigger_points, interpolation='nearest', cmap=plt.cm.nipy_spectral)\nplt.axis('off')\nplt.subplot(143)\nplt.imshow(dist, interpolation='nearest', cmap=plt.cm.nipy_spectral)\nplt.axis('off')\nplt.subplot(144)\nplt.imshow(dilate_dist, interpolation='nearest', cmap=plt.cm.nipy_spectral)\nplt.axis('off')\n\nplt.subplots_adjust(wspace=0, hspace=0.02, top=0.99, bottom=0.01, left=0.01, right=0.99)\nplt.show()"
      ]
    }
  ],
  "metadata": {
    "kernelspec": {
      "display_name": "Python 3",
      "language": "python",
      "name": "python3"
    },
    "language_info": {
      "codemirror_mode": {
        "name": "ipython",
        "version": 3
      },
      "file_extension": ".py",
      "mimetype": "text/x-python",
      "name": "python",
      "nbconvert_exporter": "python",
      "pygments_lexer": "ipython3",
      "version": "3.6.13"
    }
  },
  "nbformat": 4,
  "nbformat_minor": 0
}