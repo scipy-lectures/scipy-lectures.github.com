{
  "cells": [
    {
      "cell_type": "code",
      "execution_count": null,
      "metadata": {
        "collapsed": false
      },
      "outputs": [],
      "source": [
        "%matplotlib inline"
      ]
    },
    {
      "cell_type": "markdown",
      "metadata": {},
      "source": [
        "\nBar plots\n==========\n\nAn example of bar plots with matplotlib.\n\n"
      ]
    },
    {
      "cell_type": "code",
      "execution_count": null,
      "metadata": {
        "collapsed": false
      },
      "outputs": [],
      "source": [
        "import numpy as np\nimport matplotlib.pyplot as plt\n\nn = 12\nX = np.arange(n)\nY1 = (1 - X / float(n)) * np.random.uniform(0.5, 1.0, n)\nY2 = (1 - X / float(n)) * np.random.uniform(0.5, 1.0, n)\n\nplt.axes([0.025, 0.025, 0.95, 0.95])\nplt.bar(X, +Y1, facecolor='#9999ff', edgecolor='white')\nplt.bar(X, -Y2, facecolor='#ff9999', edgecolor='white')\n\nfor x, y in zip(X, Y1):\n    plt.text(x + 0.4, y + 0.05, '%.2f' % y, ha='center', va= 'bottom')\n\nfor x, y in zip(X, Y2):\n    plt.text(x + 0.4, -y - 0.05, '%.2f' % y, ha='center', va= 'top')\n\nplt.xlim(-.5, n)\nplt.xticks([])\nplt.ylim(-1.25, 1.25)\nplt.yticks([])\n\nplt.show()"
      ]
    }
  ],
  "metadata": {
    "kernelspec": {
      "display_name": "Python 3",
      "language": "python",
      "name": "python3"
    },
    "language_info": {
      "codemirror_mode": {
        "name": "ipython",
        "version": 3
      },
      "file_extension": ".py",
      "mimetype": "text/x-python",
      "name": "python",
      "nbconvert_exporter": "python",
      "pygments_lexer": "ipython3",
      "version": "3.6.13"
    }
  },
  "nbformat": 4,
  "nbformat_minor": 0
}