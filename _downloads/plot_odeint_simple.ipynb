{
  "cells": [
    {
      "cell_type": "code",
      "execution_count": null,
      "metadata": {
        "collapsed": false
      },
      "outputs": [],
      "source": [
        "%matplotlib inline"
      ]
    },
    {
      "cell_type": "markdown",
      "metadata": {},
      "source": [
        "\n# Integrating a simple ODE\n\n\nSolve the ODE dy/dt = -2y between t = 0..4, with the initial condition\ny(t=0) = 1.\n\n"
      ]
    },
    {
      "cell_type": "code",
      "execution_count": null,
      "metadata": {
        "collapsed": false
      },
      "outputs": [],
      "source": [
        "import numpy as np\nfrom scipy.integrate import odeint\nfrom matplotlib import pyplot as plt\n\ndef calc_derivative(ypos, time):\n    return -2*ypos\n\ntime_vec = np.linspace(0, 4, 40)\nyvec = odeint(calc_derivative, 1, time_vec)\n\nplt.figure(figsize=(4, 3))\nplt.plot(time_vec, yvec)\nplt.xlabel('t: Time')\nplt.ylabel('y: Position')\nplt.tight_layout()"
      ]
    }
  ],
  "metadata": {
    "kernelspec": {
      "display_name": "Python 3",
      "language": "python",
      "name": "python3"
    },
    "language_info": {
      "codemirror_mode": {
        "name": "ipython",
        "version": 3
      },
      "file_extension": ".py",
      "mimetype": "text/x-python",
      "name": "python",
      "nbconvert_exporter": "python",
      "pygments_lexer": "ipython3",
      "version": "3.6.13"
    }
  },
  "nbformat": 4,
  "nbformat_minor": 0
}