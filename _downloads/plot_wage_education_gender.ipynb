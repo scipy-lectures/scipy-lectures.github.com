{
  "cells": [
    {
      "cell_type": "code",
      "execution_count": null,
      "metadata": {
        "collapsed": false
      },
      "outputs": [],
      "source": [
        "%matplotlib inline"
      ]
    },
    {
      "cell_type": "markdown",
      "metadata": {},
      "source": [
        "\nTest for an education/gender interaction in wages\n==================================================\n\nWages depend mostly on education. Here we investigate how this dependence\nis related to gender: not only does gender create an offset in wages, it\nalso seems that wages increase more with education for males than\nfemales.\n\nDoes our data support this last hypothesis? We will test this using\nstatsmodels' formulas\n(http://statsmodels.sourceforge.net/stable/example_formulas.html).\n\n\n"
      ]
    },
    {
      "cell_type": "markdown",
      "metadata": {},
      "source": [
        "Load and massage the data\n\n"
      ]
    },
    {
      "cell_type": "code",
      "execution_count": null,
      "metadata": {
        "collapsed": false
      },
      "outputs": [],
      "source": [
        "import pandas\n\nimport urllib\nimport os\n\nif not os.path.exists('wages.txt'):\n    # Download the file if it is not present\n    urllib.urlretrieve('http://lib.stat.cmu.edu/datasets/CPS_85_Wages',\n                       'wages.txt')\n\n# EDUCATION: Number of years of education\n# SEX: 1=Female, 0=Male\n# WAGE: Wage (dollars per hour)\ndata = pandas.read_csv('wages.txt', skiprows=27, skipfooter=6, sep=None,\n                       header=None, names=['education', 'gender', 'wage'],\n                       usecols=[0, 2, 5],\n                       )\n\n# Convert genders to strings (this is particulary useful so that the\n# statsmodels formulas detects that gender is a categorical variable)\nimport numpy as np\ndata['gender'] = np.choose(data.gender, ['male', 'female'])\n\n# Log-transform the wages, because they typically are increased with\n# multiplicative factors\ndata['wage'] = np.log10(data['wage'])"
      ]
    },
    {
      "cell_type": "markdown",
      "metadata": {},
      "source": [
        "simple plotting\n\n"
      ]
    },
    {
      "cell_type": "code",
      "execution_count": null,
      "metadata": {
        "collapsed": false
      },
      "outputs": [],
      "source": [
        "import seaborn\n\n# Plot 2 linear fits for male and female.\nseaborn.lmplot(y='wage', x='education', hue='gender', data=data)"
      ]
    },
    {
      "cell_type": "markdown",
      "metadata": {},
      "source": [
        "statistical analysis\n\n"
      ]
    },
    {
      "cell_type": "code",
      "execution_count": null,
      "metadata": {
        "collapsed": false
      },
      "outputs": [],
      "source": [
        "import statsmodels.formula.api as sm\n\n# Note that this model is not the plot displayed above: it is one\n# joined model for male and female, not separate models for male and\n# female. The reason is that a single model enables statistical testing\nresult = sm.ols(formula='wage ~ education + gender', data=data).fit()\nprint(result.summary())"
      ]
    },
    {
      "cell_type": "markdown",
      "metadata": {},
      "source": [
        "The plots above highlight that there is not only a different offset in\nwage but also a different slope\n\nWe need to model this using an interaction\n\n"
      ]
    },
    {
      "cell_type": "code",
      "execution_count": null,
      "metadata": {
        "collapsed": false
      },
      "outputs": [],
      "source": [
        "result = sm.ols(formula='wage ~ education + gender + education * gender',\n                data=data).fit()\nprint(result.summary())"
      ]
    },
    {
      "cell_type": "markdown",
      "metadata": {},
      "source": [
        "Looking at the p-value of the interaction of gender and education, the\ndata does not support the hypothesis that education benefits males\nmore than female (p-value > 0.05).\n\n"
      ]
    },
    {
      "cell_type": "code",
      "execution_count": null,
      "metadata": {
        "collapsed": false
      },
      "outputs": [],
      "source": [
        "import matplotlib.pyplot as plt\nplt.show()"
      ]
    }
  ],
  "metadata": {
    "kernelspec": {
      "display_name": "Python 3",
      "language": "python",
      "name": "python3"
    },
    "language_info": {
      "codemirror_mode": {
        "name": "ipython",
        "version": 3
      },
      "file_extension": ".py",
      "mimetype": "text/x-python",
      "name": "python",
      "nbconvert_exporter": "python",
      "pygments_lexer": "ipython3",
      "version": "3.6.13"
    }
  },
  "nbformat": 4,
  "nbformat_minor": 0
}