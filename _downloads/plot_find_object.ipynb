{
  "cells": [
    {
      "cell_type": "code",
      "execution_count": null,
      "metadata": {
        "collapsed": false
      },
      "outputs": [],
      "source": [
        "%matplotlib inline"
      ]
    },
    {
      "cell_type": "markdown",
      "metadata": {},
      "source": [
        "\nFind the bounding box of an object\n===================================\n\nThis example shows how to extract the bounding box of the largest object\n\n\n"
      ]
    },
    {
      "cell_type": "code",
      "execution_count": null,
      "metadata": {
        "collapsed": false
      },
      "outputs": [],
      "source": [
        "import numpy as np\nfrom scipy import ndimage\nimport matplotlib.pyplot as plt\n\nnp.random.seed(1)\nn = 10\nl = 256\nim = np.zeros((l, l))\npoints = l*np.random.random((2, n**2))\nim[(points[0]).astype(np.int), (points[1]).astype(np.int)] = 1\nim = ndimage.gaussian_filter(im, sigma=l/(4.*n))\n\nmask = im > im.mean()\n\nlabel_im, nb_labels = ndimage.label(mask)\n\n# Find the largest connected component\nsizes = ndimage.sum(mask, label_im, range(nb_labels + 1))\nmask_size = sizes < 1000\nremove_pixel = mask_size[label_im]\nlabel_im[remove_pixel] = 0\nlabels = np.unique(label_im)\nlabel_im = np.searchsorted(labels, label_im)\n\n# Now that we have only one connected component, extract it's bounding box\nslice_x, slice_y = ndimage.find_objects(label_im==4)[0]\nroi = im[slice_x, slice_y]\n\nplt.figure(figsize=(4, 2))\nplt.axes([0, 0, 1, 1])\nplt.imshow(roi)\nplt.axis('off')\n\nplt.show()"
      ]
    }
  ],
  "metadata": {
    "kernelspec": {
      "display_name": "Python 3",
      "language": "python",
      "name": "python3"
    },
    "language_info": {
      "codemirror_mode": {
        "name": "ipython",
        "version": 3
      },
      "file_extension": ".py",
      "mimetype": "text/x-python",
      "name": "python",
      "nbconvert_exporter": "python",
      "pygments_lexer": "ipython3",
      "version": "3.6.13"
    }
  },
  "nbformat": 4,
  "nbformat_minor": 0
}