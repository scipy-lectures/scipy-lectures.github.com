{
  "cells": [
    {
      "cell_type": "code",
      "execution_count": null,
      "metadata": {
        "collapsed": false
      },
      "outputs": [],
      "source": [
        "%matplotlib inline"
      ]
    },
    {
      "cell_type": "markdown",
      "metadata": {},
      "source": [
        "\nGeometrical transformations\n==============================\n\nThis examples demos some simple geometrical transformations on a Racoon face.\n\n"
      ]
    },
    {
      "cell_type": "code",
      "execution_count": null,
      "metadata": {
        "collapsed": false
      },
      "outputs": [],
      "source": [
        "import numpy as np\nimport scipy.misc\nfrom scipy import ndimage\nimport matplotlib.pyplot as plt\n\nface = scipy.misc.face(gray=True)\nlx, ly = face.shape\n# Cropping\ncrop_face = face[lx//4:-lx//4, ly//4:-ly//4]\n# up <-> down flip\nflip_ud_face = np.flipud(face)\n# rotation\nrotate_face = ndimage.rotate(face, 45)\nrotate_face_noreshape = ndimage.rotate(face, 45, reshape=False)\n\nplt.figure(figsize=(12.5, 2.5))\n\n\nplt.subplot(151)\nplt.imshow(face, cmap=plt.cm.gray)\nplt.axis('off')\nplt.subplot(152)\nplt.imshow(crop_face, cmap=plt.cm.gray)\nplt.axis('off')\nplt.subplot(153)\nplt.imshow(flip_ud_face, cmap=plt.cm.gray)\nplt.axis('off')\nplt.subplot(154)\nplt.imshow(rotate_face, cmap=plt.cm.gray)\nplt.axis('off')\nplt.subplot(155)\nplt.imshow(rotate_face_noreshape, cmap=plt.cm.gray)\nplt.axis('off')\n\nplt.subplots_adjust(wspace=0.02, hspace=0.3, top=1, bottom=0.1, left=0,\n                    right=1)\n\nplt.show()"
      ]
    }
  ],
  "metadata": {
    "kernelspec": {
      "display_name": "Python 3",
      "language": "python",
      "name": "python3"
    },
    "language_info": {
      "codemirror_mode": {
        "name": "ipython",
        "version": 3
      },
      "file_extension": ".py",
      "mimetype": "text/x-python",
      "name": "python",
      "nbconvert_exporter": "python",
      "pygments_lexer": "ipython3",
      "version": "3.6.13"
    }
  },
  "nbformat": 4,
  "nbformat_minor": 0
}